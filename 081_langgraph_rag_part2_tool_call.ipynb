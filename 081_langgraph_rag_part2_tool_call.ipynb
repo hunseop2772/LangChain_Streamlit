{
 "cells": [
  {
   "cell_type": "markdown",
   "id": "86fc5bb2-017f-434e-8cd6-53ab214a5604",
   "metadata": {
    "id": "86fc5bb2-017f-434e-8cd6-53ab214a5604"
   },
   "source": [
    "# Retrieval Augmented Generation (RAG) 애플리케이션 구축: Part 2 - Chatbot Agent \n",
    "\n",
    "### 사용자와의 상호작용을 기억하는 메모리 기능과 다단계 검색(multi-step retrieval)을 통합한 RAG 애플리케이션을 구축\n",
    "\n",
    "- **Part 1**: RAG 개념을 소개하고, 최소한의 구현 방법을 설명합니다.  \n",
    "- **Part 2** 기존 구현을 확장하여 대화형 상호작용과 다단계 검색 프로세스를 처리할 수 있도록 개선합니다.\n",
    "\n",
    "여기서는 **과거 대화 기록을 현재 답변 논리에 통합하는 방법**을 중점적으로 다룹니다.  \n",
    "\n",
    "**두 가지 접근 방식**을 다룹니다.\n",
    "\n",
    "1. **체인(Chains)**   - 한 번의 검색 단계만 실행합니다.  \n",
    "\n",
    "2. **에이전트(Agents)**   - LLM이 필요에 따라 **여러 번의 검색 단계 (다중 단계 검색)** 를 수행하도록 자유롭게 설정합니다."
   ]
  },
  {
   "cell_type": "code",
   "execution_count": 1,
   "id": "b058beb4",
   "metadata": {},
   "outputs": [
    {
     "data": {
      "text/plain": [
       "True"
      ]
     },
     "execution_count": 1,
     "metadata": {},
     "output_type": "execute_result"
    }
   ],
   "source": [
    "import os\n",
    "from dotenv import load_dotenv\n",
    "load_dotenv()"
   ]
  },
  {
   "cell_type": "code",
   "execution_count": 2,
   "id": "0a7c2b9f",
   "metadata": {},
   "outputs": [],
   "source": [
    "# LangSmith 추적 설정 활성화\n",
    "os.environ[\"LANGSMITH_TRACING\"] = \"true\""
   ]
  },
  {
   "cell_type": "code",
   "execution_count": 3,
   "id": "a2ef4281",
   "metadata": {},
   "outputs": [],
   "source": [
    "from langchain_openai import ChatOpenAI\n",
    "from langchain_openai import OpenAIEmbeddings\n",
    "\n",
    "# 사용할 언어 모델의 이름을 지정\n",
    "llm = ChatOpenAI(model=\"gpt-4.1-mini\")\n",
    "# 사용할 임베딩 모델의 이름을 지정\n",
    "embeddings = OpenAIEmbeddings(model='text-embedding-3-large')"
   ]
  },
  {
   "cell_type": "code",
   "execution_count": 4,
   "id": "05eee8f6",
   "metadata": {},
   "outputs": [],
   "source": [
    "from langchain_core.vectorstores import InMemoryVectorStore\n",
    "\n",
    "vector_store = InMemoryVectorStore(embeddings)"
   ]
  },
  {
   "cell_type": "markdown",
   "id": "fa6ba684-26cf-4860-904e-a4d51380c134",
   "metadata": {
    "id": "fa6ba684-26cf-4860-904e-a4d51380c134"
   },
   "source": [
    "### **문서 불러오기 (Loading Documents)**\n",
    "\n",
    "우리가 콘텐츠를 불러올 웹사이트는 **[Harheem의 \"LLM Agents\" 블로그 게시물](https://harheem.github.io/llm/2024/02/28/llm-agents.html)** 이며, 이를 통해 해당 게시물의 내용에 대한 질문에 답할 수 있도록 할 것입니다."
   ]
  },
  {
   "cell_type": "code",
   "execution_count": 5,
   "id": "fef3908a",
   "metadata": {},
   "outputs": [
    {
     "name": "stderr",
     "output_type": "stream",
     "text": [
      "USER_AGENT environment variable not set, consider setting it to identify your requests.\n"
     ]
    },
    {
     "name": "stdout",
     "output_type": "stream",
     "text": [
      "Total characters: 9483\n",
      "블로그 글을 13개의 하위 문서로 분할했습니다.\n"
     ]
    }
   ],
   "source": [
    "import bs4\n",
    "from langchain_community.document_loaders import WebBaseLoader\n",
    "\n",
    "# 주요 콘텐츠 태그만 필터링 (제목, 본문, 코드 등)\n",
    "bs4_strainer = bs4.SoupStrainer(name=(\"h1\", \"h2\", \"h3\", \"p\", \"pre\", \"li\"))\n",
    "\n",
    "# WebBaseLoader 사용: requests_kwargs로 User-Agent 설정\n",
    "loader = WebBaseLoader(\n",
    "    web_paths=(\"https://harheem.github.io/llm/2024/02/28/llm-agents.html\",),\n",
    "    bs_kwargs={\"parse_only\": bs4_strainer},\n",
    "    requests_kwargs={\n",
    "        \"headers\": {\n",
    "            \"User-Agent\": \"Mozilla/5.0 (Windows NT 10.0; Win64; x64)\"\n",
    "        }\n",
    "    }\n",
    ")\n",
    "\n",
    "# 문서 로드\n",
    "docs = loader.load()\n",
    "\n",
    "# 결과 확인\n",
    "assert len(docs) == 1\n",
    "print(f\"Total characters: {len(docs[0].page_content)}\")\n",
    "\n",
    "from langchain_text_splitters import RecursiveCharacterTextSplitter\n",
    "\n",
    "text_splitter = RecursiveCharacterTextSplitter(\n",
    "    chunk_size=1000,            # 각 청크의 최대 문자 수 (1,000자)\n",
    "    chunk_overlap=200,          # 청크 간 겹치는 문자 수 (200자)\n",
    "    add_start_index=True,       # 원본 문서에서 각 청크의 시작 인덱스를 추적\n",
    ")\n",
    "\n",
    "# 불러온 문서를 설정한 기준에 따라 청크로 분할\n",
    "all_splits = text_splitter.split_documents(docs)\n",
    "\n",
    "# 분할된 청크(서브 문서)의 개수 출력\n",
    "print(f\"블로그 글을 {len(all_splits)}개의 하위 문서로 분할했습니다.\")\n",
    "\n",
    "_ = vector_store.add_documents(documents=all_splits)"
   ]
  },
  {
   "cell_type": "markdown",
   "id": "bac23bf1-8f8e-4594-bfb2-6044991d9140",
   "metadata": {},
   "source": [
    "### LangChain 고유 방식 : Part 1 에서 사용했던 상태(state) 기반 접근법 \n",
    "- LangChain의 **RAG 애플리케이션**에서는 사용자 입력, 검색된 문서, 그리고 생성된 답변을 각각 상태(state)라는 구조 안에 별도의 키(key)로 저장했습니다.  \n",
    "- 예를 들면:\n",
    "  \n",
    "```python\n",
    "   # 애플리케이션의 상태(State) 객체 정의\n",
    "    class State(TypedDict):\n",
    "        question: str          # 사용자 질문을 저장하는 문자열 필드\n",
    "        context: List[Document]    # 검색된 문서 목록을 저장하는 필드\n",
    "        answer: str           # 생성된 답변을 저장하는 문자열 필드\n",
    "    \n",
    "    state = {\n",
    "       \"question\": \"고양이는 몇 살까지 살아요?\",\n",
    "       \"context\": [\"고양이의 평균 수명은 12-18년입니다.\"],\n",
    "       \"answer\": \"고양이는 보통 12-18년 정도 삽니다.\"\n",
    "     }\n",
    "```\n",
    "- 하지만 이런 방식은 챗봇의 경우 대화의 흐름을 자연스럽게 표현하기 어려울 수 있으므로 v0.3 부터는 OpenAI 의 메시지 형식을 활용하여 다음과 같은 방식을 권장합니다. \n",
    "\n",
    "---\n",
    "\n",
    "### 새로운 메시지(messages) 기반 시퀀스 접근법 - OpenAI API 방식\n",
    "\n",
    "- 여기에는 다음과 같은 요소들이 포함됩니다:  \n",
    "   1. **사용자 메시지(User Message):** HumanMessage 로 표현\n",
    "   2. **어시스턴트 메시지(Assistant Message):** AIMessage 로 표현  \n",
    "   3. **도구 메시지(Tool Message):** 검색된 문서나 기타 참고 자료 - ToolMessage로 표현\n",
    "   4. **최종 응답**: AIMessage 로 표현\n",
    "  \n",
    "\n",
    "```python\n",
    "    from langgraph.graph import MessagesState\n",
    "\n",
    "    def query_or_respond(state: MessagesState):\n",
    "    \n",
    "        response = [\n",
    "            {\"role\": \"user\", \"content\": \"고양이는 몇 살까지 살아요?\"},\n",
    "            {\"role\": \"tool\", \"content\": \"검색 결과: 고양이의 평균 수명은 12-18년입니다.\"},\n",
    "            {\"role\": \"assistant\", \"content\": \"고양이는 보통 12-18년 정도 삽니다.\"}\n",
    "        ]\n",
    "        \n",
    "        ..................\n",
    "        \n",
    "        return {\"messages\": [response]}\n",
    "```\n",
    "---"
   ]
  },
  {
   "cell_type": "markdown",
   "id": "a5d32309-21b4-490c-ba16-0dc835715e25",
   "metadata": {},
   "source": [
    "이 메시지 기반 시퀀스 모델 사용 편의를 위해, LangGraph에서는 내장된 MessagesState 버전을 제공합니다."
   ]
  },
  {
   "cell_type": "code",
   "execution_count": 6,
   "id": "04f8b22a-df5f-48a6-abbc-56a57f2da7b8",
   "metadata": {},
   "outputs": [],
   "source": [
    "from langgraph.graph import MessagesState, StateGraph\n",
    "\n",
    "graph_builder = StateGraph(MessagesState)"
   ]
  },
  {
   "cell_type": "markdown",
   "id": "335abbbf-109f-4eca-9563-d2f6c77995d5",
   "metadata": {},
   "source": [
    "**도구 호출(tool-calling)** 을 활용해 검색 단계와 상호작용하는 것에는 또 다른 이점이 있습니다. 바로 **검색에 사용할 쿼리를 모델이 직접 생성할 수 있다는 점**입니다.  \n",
    "\n",
    "이것은 특히 **대화형 환경(conversational setting)** 에서 중요합니다. 사용자의 질문이 **대화 이력(chat history)** 을 기반으로 문맥화되어야 할 수 있기 때문입니다. \n",
    "\n",
    "이 기능 역시 OpenAI API 의 tool calling 기능을 LangChain에서 활용하는 사례입니다.\n",
    "\n",
    "---\n",
    "\n",
    "### **예시 대화**  \n",
    "\n",
    "> **Human:** \"Task Decomposition이란 무엇인가요?\"  \n",
    "> **AI:** \"Task Decomposition은 복잡한 작업을 더 작고 단순한 단계로 나누어, 에이전트나 모델이 더 쉽게 관리할 수 있도록 만드는 과정입니다.\"  \n",
    "> **Human:** \"일반적으로 Task Decomposition을 수행하는 방법에는 어떤 것들이 있나요?\"  \n",
    "\n",
    "- 이 시나리오에서 모델은 `\"Task Decomposition의 일반적인 접근법\"`과 같은 검색 쿼리를 생성할 수 있습니다.  \n",
    "- **도구 호출(tool-calling)** 은 이런 과정을 자연스럽게 지원합니다.  \n",
    "\n",
    "---\n",
    "\n",
    "이제 검색 단계를 **도구(tool)** 로 전환해 보겠습니다.  `@tool` 함수는 다음과 같이 `OpenAI의 function-calling` 구조로 함수들을 선언합니다.\n",
    "```\n",
    "{\n",
    "  \"name\": \"retrieve\",\n",
    "  \"description\": \"문서를 검색합니다\",\n",
    "  \"parameters\": {\n",
    "    \"type\": \"object\",\n",
    "    \"properties\": {\n",
    "      \"query\": { \"type\": \"string\", \"description\": \"검색할 쿼리\" }\n",
    "    },\n",
    "    \"required\": [\"query\"]\n",
    "  }\n",
    "}\n",
    "```"
   ]
  },
  {
   "cell_type": "code",
   "execution_count": 7,
   "id": "f9ce2c96",
   "metadata": {},
   "outputs": [],
   "source": [
    "from langchain_core.tools import tool\n",
    "\n",
    "# 검색(retrieve) 함수를 도구로 정의\n",
    "# - response_format=\"content_and_artifact\"로 지정하면 \n",
    "# 반드시 결과를 직렬화된 content)와 artifact)로 반환\n",
    "@tool(response_format=\"content_and_artifact\")\n",
    "def retrieve(query: str):\n",
    "    \"\"\"\n",
    "    주어진 쿼리와 관련된 정보를 검색합니다. \n",
    "    query: 검색할 텍스트 쿼리입니다. llm 이 생성해 줍니다.\n",
    "    \"\"\"    \n",
    "    # 벡터 스토어에서 유사도 검색 수행. 가장 유사한 두 개의 문서를 반환.\n",
    "    retrieved_docs = vector_store.similarity_search(query)\n",
    "    \n",
    "    # 검색된 문서를 문자열로 직렬화\n",
    "    serialized = \"\\n\\n\".join(\n",
    "        (f\"Source: {doc.metadata}\\n\" f\"Content {doc.page_content}\")\n",
    "        for doc in retrieved_docs\n",
    "    )\n",
    "    \n",
    "    # 직렬화된 결과(content)와 원본 문서 목록(artifact) 반환.\n",
    "    return serialized, retrieved_docs"
   ]
  },
  {
   "cell_type": "markdown",
   "id": "e4a34efb-cbfc-4ce3-a91a-87108c6a4b65",
   "metadata": {},
   "source": [
    "우리의 그래프는 세 개의 노드로 구성됩니다:\n",
    "\n",
    "1. **사용자 입력을 처리하는 노드** - 검색을 위한 쿼리를 생성하거나, 직접 응답을 생성하는 역할을 합니다.  \n",
    "\n",
    "2. **검색(retrieval) 도구를 실행하는 노드** - 검색 단계를 수행하여 관련 문서를 가져오는 역할을 합니다.  \n",
    "\n",
    "3. **최종 응답을 생성하는 노드** - 검색된 문맥(context)을 활용하여 최종 답변을 생성합니다.  \n",
    "\n",
    "아래에서 이 노드들을 구축하겠습니다.    \n",
    "특히, **LangGraph의 사전 구축된 구성 요소 중 하나인 `ToolNode`를 활용**할 것입니다.    \n",
    "이 `ToolNode`는 도구를 실행하고, 그 결과를 **`ToolMessage` 형태로 상태(state)에 추가**하는 역할을 합니다.   "
   ]
  },
  {
   "cell_type": "code",
   "execution_count": 8,
   "id": "58657340-4334-43af-8744-bbb5dcb3d122",
   "metadata": {},
   "outputs": [],
   "source": [
    "from langchain_core.messages import SystemMessage\n",
    "from langgraph.prebuilt import ToolNode\n",
    "\n",
    "# 단계 1: 도구 호출을 포함할 수 있는 AIMessage를 생성하여 전송합니다.\n",
    "# MessagesState는 메시지를 덮어쓰지 않고 상태에 추가합니다.\n",
    "def query_or_respond(state: MessagesState):\n",
    "    \"\"\"검색을 위한 도구 호출을 생성하거나 응답을 생성합니다.\"\"\"\n",
    "    llm_with_tools = llm.bind_tools([retrieve])\n",
    "    response = llm_with_tools.invoke(state[\"messages\"])\n",
    "    return {\"messages\": [response]}\n",
    "\n",
    "# 단계 2: 검색을 실행합니다. (검색에 필요한 argument는 llm이 생성)\n",
    "tools = ToolNode([retrieve])\n",
    "\n",
    "# 단계 3: 검색된 내용을 사용하여 응답을 생성합니다. \n",
    "# (검색된 내용을 다시 llm에게 전달)\n",
    "def generate(state: MessagesState):\n",
    "    \"\"\"답변을 생성합니다.\"\"\"\n",
    "    # 최근 생성된 ToolMessages 가져오기\n",
    "    recent_tool_messages = []\n",
    "    for message in reversed(state[\"messages\"]):\n",
    "        if message.type == \"tool\":\n",
    "            recent_tool_messages.append(message)\n",
    "        else:\n",
    "            break\n",
    "    tool_messages = recent_tool_messages[::-1]\n",
    "\n",
    "    # 프롬프트 형식으로 변환\n",
    "    docs_content = \"\\n\\n\".join(doc.content for doc in tool_messages)\n",
    "    system_message_content = (\n",
    "        \"당신은 질문-응답 작업을 위한 어시스턴트입니다. \"\n",
    "        \"주어진 검색 결과만 이용해서 질문에 답하세요. \"\n",
    "        \"\\n\\n\"\n",
    "        f\"{docs_content}\"\n",
    "    )\n",
    "    conversation_messages = [\n",
    "        message\n",
    "        for message in state[\"messages\"]\n",
    "        if message.type in (\"human\", \"system\")\n",
    "        or (message.type == \"ai\" and not message.tool_calls)\n",
    "    ]\n",
    "    prompt = [SystemMessage(system_message_content)] + conversation_messages\n",
    "\n",
    "    # 실행\n",
    "    response = llm.invoke(prompt)\n",
    "    return {\"messages\": [response]}"
   ]
  },
  {
   "cell_type": "markdown",
   "id": "337a9556-7a0e-4fc0-9627-b932471bec09",
   "metadata": {},
   "source": [
    "마지막으로, 우리의 애플리케이션을 단일 그래프 객체로 컴파일합니다. 이 경우, 우리는 단계를 순차적으로 연결합니다. 또한, 첫 번째 `query_or_respond` 단계가 \"쇼트 서킷(어떤 조건이 충족되어 스킵)\" 되어 도구 호출을 생성하지 않는 경우, 사용자에게 직접 응답할 수 있도록 허용합니다. 이를 통해 검색 단계가 필요하지 않은 일반적인 인사와 같은 대화 경험을 지원할 수 있습니다."
   ]
  },
  {
   "cell_type": "code",
   "execution_count": 9,
   "id": "5ce19b00-c872-4aa7-afe7-23076c7f850f",
   "metadata": {},
   "outputs": [
    {
     "data": {
      "image/png": "[encoded data removed]",
      "text/plain": [
       "<langgraph.graph.state.CompiledStateGraph object at 0x000001A7A173FA50>"
      ]
     },
     "execution_count": 9,
     "metadata": {},
     "output_type": "execute_result"
    }
   ],
   "source": [
    "from langgraph.graph import END\n",
    "from langgraph.prebuilt import ToolNode, tools_condition\n",
    "from langgraph.graph import MessagesState, StateGraph\n",
    "\n",
    "graph_builder = StateGraph(MessagesState)\n",
    "\n",
    "# 그래프 빌더에 각 노드 추가\n",
    "graph_builder.add_node(query_or_respond)  # 쿼리 생성 또는 응답 노드 추가\n",
    "graph_builder.add_node(tools)  # 검색(도구 호출) 노드 추가\n",
    "graph_builder.add_node(generate)  # 최종 응답 생성 노드 추가\n",
    "\n",
    "# 그래프의 시작점을 설정\n",
    "graph_builder.set_entry_point(\"query_or_respond\")\n",
    "\n",
    "# 조건부 엣지(경로) 설정\n",
    "graph_builder.add_conditional_edges(\n",
    "    \"query_or_respond\",  # 첫 번째 노드: query_or_respond\n",
    "    tools_condition,  # 조건 함수: 도구 호출이 필요한지 여부를 판단\n",
    "    {END: END, \"tools\": \"tools\"},  # 조건에 따라 실행 경로 결정\n",
    "    # - END: 도구 호출이 필요하지 않으면 실행 종료\n",
    "    # - \"tools\": 검색이 필요하면 tools 노드로 이동\n",
    ")\n",
    "\n",
    "# 그래프 엣지(경로) 설정\n",
    "graph_builder.add_edge(\"tools\", \"generate\")  # 도구 검색 후 응답 생성 단계로 이동\n",
    "graph_builder.add_edge(\"generate\", END)  # 응답 생성 후 실행 종료\n",
    "\n",
    "# 그래프 컴파일 및 출력\n",
    "graph = graph_builder.compile()\n",
    "graph"
   ]
  },
  {
   "cell_type": "markdown",
   "id": "1e936c39-20db-4499-a662-9edfabfd46a8",
   "metadata": {},
   "source": [
    "우리의 애플리케이션을 테스트해 봅시다.  \n",
    "\n",
    "추가적인 검색 단계가 필요하지 않은 메시지에 적절하게 응답하는 것을 확인할 수 있습니다."
   ]
  },
  {
   "cell_type": "code",
   "execution_count": 10,
   "id": "64ba796f-b5a7-4a04-a921-230dd954f7cc",
   "metadata": {},
   "outputs": [
    {
     "name": "stdout",
     "output_type": "stream",
     "text": [
      "================================\u001b[1m Human Message \u001b[0m=================================\n",
      "\n",
      "안녕! 난 길동이야.\n",
      "==================================\u001b[1m Ai Message \u001b[0m==================================\n",
      "\n",
      "안녕 길동아! 만나서 반가워. 오늘 기분은 어때?\n"
     ]
    }
   ],
   "source": [
    "input_message = \"안녕! 난 길동이야.\"\n",
    "\n",
    "for step in graph.stream(\n",
    "    {\"messages\": [{\"role\": \"user\", \"content\": input_message}]},\n",
    "    stream_mode=\"values\",\n",
    "):\n",
    "    step[\"messages\"][-1].pretty_print()"
   ]
  },
  {
   "cell_type": "markdown",
   "id": "e375cedc-427e-4b0c-9d86-64242909532f",
   "metadata": {},
   "source": [
    "그리고 검색을 실행할 때, 쿼리 생성, 검색, 그리고 응답 생성 단계를 스트리밍하여 관찰할 수 있습니다."
   ]
  },
  {
   "cell_type": "code",
   "execution_count": 11,
   "id": "c42b97af-7e3c-489a-b876-5efd4611cdd8",
   "metadata": {},
   "outputs": [
    {
     "name": "stdout",
     "output_type": "stream",
     "text": [
      "================================\u001b[1m Human Message \u001b[0m=================================\n",
      "\n",
      "LLM 에이전트 프레임워크를 구성하는 핵심 구성 요소는 무엇인가요?\n",
      "==================================\u001b[1m Ai Message \u001b[0m==================================\n",
      "Tool Calls:\n",
      "  retrieve (call_8QtbS8ixcuyOzQbLqziN2eHr)\n",
      " Call ID: call_8QtbS8ixcuyOzQbLqziN2eHr\n",
      "  Args:\n",
      "    query: LLM 에이전트 프레임워크 핵심 구성 요소\n",
      "=================================\u001b[1m Tool Message \u001b[0m=================================\n",
      "Name: retrieve\n",
      "\n",
      "Source: {'source': 'https://harheem.github.io/llm/2024/02/28/llm-agents.html', 'start_index': 1}\n",
      "Content LLM Agents\n",
      "Prompt Engineering Guide 한글화 - LLM Agents\n",
      "LLM AgentsLLM 에이전트 프레임워크에이전트계획피드백이 없는 계획피드백이 있는 계획메모리도구LLM 에이전트 응용 사례주목할 만한 LLM 에이전트 사례LLM 에이전트 도구LLM 에이전트 평가도전과제참고 자료ResumeBlog\n",
      "LLM Agents\n",
      "Prompt Engineering Guide 한글화 - LLM Agents\n",
      "\n",
      "Source: {'source': 'https://harheem.github.io/llm/2024/02/28/llm-agents.html', 'start_index': 236}\n",
      "Content LLM AgentsPrompt Engineering Guide - LLM AgentsTranslate llm-agents.en.mdx to Korean in llm-agents.kr.mdx by harheem · Pull Request #406 · dair-ai/Prompt-Engineering-GuideLLM 기반 에이전트는 계획 및 메모리와 같은 핵심 모듈과 결합된 LLM을 통해 복잡한 작업을 수행할 수 있는 LLM 애플리케이션을 의미합니다. 여기서 LLM은 작업이나 사용자 요청을 완료하는 데 필요한 작업 흐름을 제어하는 주요 컨트롤러 또는 ‘두뇌’ 역할을 합니다. LLM 에이전트는 계획, 메모리, 도구와 같은 다양한 핵심 모듈이 필요할 수 있습니다.이 LLM 에이전트의 유용성을 더 잘 이해하기 위해, 다음과 같은 시스템을 구축하는 데 관심이 있다고 생각해 보겠습니다:2023년 미국의 평균 일일 칼로리 섭취량은 얼마인가요?위 질문은 이미 충분한 지식을 갖춘 LLM을 통해 바로 답할 수 있을 것입니다. 만약 LLM이 해당 질문에 대한 지식이 없다면, LLM은 건강 관련 정보나 보고서에 접근할 수 있는 간단한 RAG 시스템을 활용할 수 있습니다. 이제 보다 복잡한 질문을 시도해 보겠습니다:지난 10년 동안 미국 성인의 평균 일일 칼로리 섭취 추세는 어떻게 변했으며, 이것이 비만률에 어떤 영향을 미쳤나요? 또한, 이 기간 동안 비만률 추세의 그래픽 표현을 제공할 수 있나요?이 질문에 대답하기 위해서는 단순히 LLM만 사용하는 것으로는 충분하지 않습니다. LLM을 외부 지식 베이스와 결합한 RAG 시스템을 만드는 것도 이런 복잡한 질문에 대한 답변을 제공하기엔 부족할 수 있습니다. 이런 질문에 대응하기 위해서는 LLM이 필요한 도구를 활용하고, 목표로 하는 최종 응답을 위한 작업 흐름을 관리하며, 작업을 세분화하는 과정이 필요합니다. 한 가지 해결책으로는 LLM 에이전트를 구축하여 검색 API, 건강 관련 출판물, 칼로리 섭취 및 비만과 관련된 정보를 제공하는\n",
      "\n",
      "Source: {'source': 'https://harheem.github.io/llm/2024/02/28/llm-agents.html', 'start_index': 1037}\n",
      "Content 것도 이런 복잡한 질문에 대한 답변을 제공하기엔 부족할 수 있습니다. 이런 질문에 대응하기 위해서는 LLM이 필요한 도구를 활용하고, 목표로 하는 최종 응답을 위한 작업 흐름을 관리하며, 작업을 세분화하는 과정이 필요합니다. 한 가지 해결책으로는 LLM 에이전트를 구축하여 검색 API, 건강 관련 출판물, 칼로리 섭취 및 비만과 관련된 정보를 제공하는 공공 및 사적 건강 데이터베이스에 접근할 수 있도록 하는 것입니다.LLM은 비만 추세를 분석하는 데 도움이 되는 차트를 생성하기 위해 데이터를 처리하는 코드 인터프리터 도구에 접근해야 할 것입니다. 이러한 도구는 LLM 에이전트가 고려할 수 있는 고급 기능 중 하나입니다. 또한, 작업 계획을 세우고 작업 흐름을 관리하며, 진행 상황을 추적하는 데 유용한 메모리 모듈에 대한 접근도 중요한 고려 사항 중 하나입니다.LLM 에이전트 프레임워크일반적으로 LLM 에이전트 프레임워크는 다음과 같은 핵심 구성 요소로 이루어질 수 있습니다:사용자 요청(User Request) - 사용자의 질문이나 요청에이전트(Agent)/두뇌(Brain) - 관리자의 역할을 하는 에이전트의 핵심계획(Planning) - 에이전트가 미래 행동을 계획하는 것을 도움메모리(Memory) - 에이전트의 과거 행동을 관리에이전트대규모 언어 모델(LLM)은 시스템의 핵심 두뇌로서, 에이전트 모듈이나 관리자의 역할을 수행합니다. 이 구성 요소는 에이전트의 작동 방식과 접근 가능한 도구(도구의 세부 정보 포함)에 대한 중요한 세부 정보를 담은 프롬프트 템플릿을 통해 활성화됩니다.필수는 아니지만, 에이전트는 특정 역할이나 특성을 가진 페르소나로 프로파일링될 수 있습니다. 이 프로파일링 정보는 주로 프롬프트에 기재되며, 역할 세부 정보, 성격, 사회적 배경, 인구 통계적 정보 등 구체적인 사항을 포함할 수 있습니다. Wang et al. 2023에 따르면, 에이전트 프로파일을 정의하는 방법으로는 수작업, LLM 생성, 데이터 기반 접근법이\n",
      "\n",
      "Source: {'source': 'https://harheem.github.io/llm/2024/02/28/llm-agents.html', 'start_index': 3428}\n",
      "Content 형식도 있습니다. 여기에는 자연 언어, 임베딩, 데이터베이스, 구조화된 리스트 등이 포함되며, 이들은 자연 언어로 표현된 키와 임베딩 벡터로 표현된 값으로 구성된 키-값 구조를 활용하는 Minecraft의 Ghost (GITM)와 같이 결합될 수 있습니다.계획 및 메모리 모듈은 에이전트가 동적 환경에서 효과적으로 작동하고 과거 행동을 잘 회상하며 미래 행동을 계획할 수 있도록 합니다.도구도구는 LLM 에이전트가 외부 환경과 상호 작용하는 데 도움을 주는 도구나 도구 집합을 의미합니다. 여기에는 위키피디아 검색 API, 코드 인터프리터, 수학 엔진 등이 포함됩니다. 또한, 데이터베이스, 지식 베이스, 외부 모델도 도구에 포함될 수 있습니다. 에이전트가 외부 도구와 상호작용할 때는 사용자 요청을 충족시키고 부분 작업을 완료하기 위해 필요한 관찰이나 정보를 얻는 워크플로우를 통해 작업을 수행합니다. 예를 들어, 건강 관련 질문에서 코드 인터프리터는 사용자가 요청한 필요한 차트 정보를 생성하는 코드를 실행하는 도구가 됩니다.LLM은 다양한 방식으로 도구를 활용합니다:MRKL은 LLM과 전문가 모듈을 결합한 프레임워크로, 이는 LLM 또는 기호식(계산기 또는 날씨 API 등)일 수 있습니다.Toolformer는 외부 도구 API 사용을 위해 LLM을 미세 조정합니다.Function Calling은 도구 API 집합을 정의하고 이를 모델에 요청의 일부로 제공함으로써 LLM에 도구 사용 기능을 추가합니다.HuggingGPT는 다양한 기존 AI 모델을 연결하여 AI 작업을 해결하는 LLM 기반 에이전트로, LLM을 작업 계획자로 활용합니다.LLM 에이전트 응용 사례ChemCrow 에이전트는 유기 합성, 약물 발견 및 재료 설계를 포함한 작업을 완료하기 위해 설계되었음. 그림 출처: Bran et al., 2023복잡한 추론 및 상식 이해 능력 덕분에 LLM 기반 에이전트가 효과적으로 사용된 다양한 분야와 사례 연구를 강조합니다.주목할 만한 LLM 에이전트 사례Ma et\n",
      "==================================\u001b[1m Ai Message \u001b[0m==================================\n",
      "\n",
      "LLM 에이전트 프레임워크의 핵심 구성 요소는 다음과 같습니다:\n",
      "\n",
      "1. 사용자 요청(User Request) - 사용자의 질문이나 요청  \n",
      "2. 에이전트(Agent)/두뇌(Brain) - 관리자의 역할을 하는 에이전트의 핵심  \n",
      "3. 계획(Planning) - 에이전트가 미래 행동을 계획하는 데 도움  \n",
      "4. 메모리(Memory) - 에이전트의 과거 행동을 관리  \n",
      "\n",
      "또한, 대규모 언어 모델(LLM)이 시스템의 핵심 두뇌 역할을 수행하며, 도구(검색 API, 코드 인터프리터, 수학 엔진 등)와 결합하여 작업을 수행합니다. 일부 에이전트는 특정 역할이나 특성을 가진 페르소나로 프로파일링되어 프롬프트에 반영될 수도 있습니다.  \n",
      "\n",
      "참고로 이 정보는 Prompt Engineering Guide의 LLM 에이전트 관련 내용에서 발췌하였습니다.\n"
     ]
    }
   ],
   "source": [
    "input_message = \"LLM 에이전트 프레임워크를 구성하는 핵심 구성 요소는 무엇인가요?\"\n",
    "\n",
    "for step in graph.stream(\n",
    "    {\"messages\": [{\"role\": \"user\", \"content\": input_message}]},\n",
    "    stream_mode=\"values\",\n",
    "):\n",
    "    step[\"messages\"][-1].pretty_print()"
   ]
  },
  {
   "cell_type": "markdown",
   "id": "0dd1fa52-8fc2-4a69-9fb2-de1eb8c682eb",
   "metadata": {},
   "source": [
    "---------------------\n",
    "### 대화 기록의 상태 기반 관리\n",
    "\n",
    "여러 대화 턴과 스레드를 관리하려면, **애플리케이션을 컴파일할 때 체크포인터(checkpointer)를 지정**하기만 하면 됩니다.  \n",
    "LangGraph의 노드들은 상태(state)에 메시지를 계속 추가하는 방식이므로, 호출할 때마다 일관된 대화 기록을 유지할 수 있습니다.  \n",
    "\n",
    "LangGraph에는 간단한 인메모리 체크포인터(in-memory checkpointer)가 기본 제공되며, 아래 예제에서는 이를 사용합니다.  "
   ]
  },
  {
   "cell_type": "code",
   "execution_count": 12,
   "id": "a688a41a-4ecd-4621-8595-c00fc4bd949d",
   "metadata": {},
   "outputs": [],
   "source": [
    "from langgraph.checkpoint.memory import MemorySaver\n",
    "\n",
    "memory = MemorySaver()\n",
    "graph = graph_builder.compile(checkpointer=memory)\n",
    "\n",
    "config = {\"configurable\": {\"thread_id\": \"abc123\"}}"
   ]
  },
  {
   "cell_type": "markdown",
   "id": "48339720-f942-414d-a1cc-6d871ce990a3",
   "metadata": {},
   "source": [
    "이제 이전과 유사하게 호출할 수 있습니다."
   ]
  },
  {
   "cell_type": "code",
   "execution_count": 13,
   "id": "5a3d0d13-24fb-41ff-bd19-c0c4e6d77064",
   "metadata": {},
   "outputs": [
    {
     "name": "stdout",
     "output_type": "stream",
     "text": [
      "================================\u001b[1m Human Message \u001b[0m=================================\n",
      "\n",
      "Toolformer가 하는 일이 뭔가요?\n",
      "==================================\u001b[1m Ai Message \u001b[0m==================================\n",
      "Tool Calls:\n",
      "  retrieve (call_gU3whuG0cKNDqU69EIBDEd8S)\n",
      " Call ID: call_gU3whuG0cKNDqU69EIBDEd8S\n",
      "  Args:\n",
      "    query: Toolformer\n",
      "=================================\u001b[1m Tool Message \u001b[0m=================================\n",
      "Name: retrieve\n",
      "\n",
      "Source: {'source': 'https://harheem.github.io/llm/2024/02/28/llm-agents.html', 'start_index': 3428}\n",
      "Content 형식도 있습니다. 여기에는 자연 언어, 임베딩, 데이터베이스, 구조화된 리스트 등이 포함되며, 이들은 자연 언어로 표현된 키와 임베딩 벡터로 표현된 값으로 구성된 키-값 구조를 활용하는 Minecraft의 Ghost (GITM)와 같이 결합될 수 있습니다.계획 및 메모리 모듈은 에이전트가 동적 환경에서 효과적으로 작동하고 과거 행동을 잘 회상하며 미래 행동을 계획할 수 있도록 합니다.도구도구는 LLM 에이전트가 외부 환경과 상호 작용하는 데 도움을 주는 도구나 도구 집합을 의미합니다. 여기에는 위키피디아 검색 API, 코드 인터프리터, 수학 엔진 등이 포함됩니다. 또한, 데이터베이스, 지식 베이스, 외부 모델도 도구에 포함될 수 있습니다. 에이전트가 외부 도구와 상호작용할 때는 사용자 요청을 충족시키고 부분 작업을 완료하기 위해 필요한 관찰이나 정보를 얻는 워크플로우를 통해 작업을 수행합니다. 예를 들어, 건강 관련 질문에서 코드 인터프리터는 사용자가 요청한 필요한 차트 정보를 생성하는 코드를 실행하는 도구가 됩니다.LLM은 다양한 방식으로 도구를 활용합니다:MRKL은 LLM과 전문가 모듈을 결합한 프레임워크로, 이는 LLM 또는 기호식(계산기 또는 날씨 API 등)일 수 있습니다.Toolformer는 외부 도구 API 사용을 위해 LLM을 미세 조정합니다.Function Calling은 도구 API 집합을 정의하고 이를 모델에 요청의 일부로 제공함으로써 LLM에 도구 사용 기능을 추가합니다.HuggingGPT는 다양한 기존 AI 모델을 연결하여 AI 작업을 해결하는 LLM 기반 에이전트로, LLM을 작업 계획자로 활용합니다.LLM 에이전트 응용 사례ChemCrow 에이전트는 유기 합성, 약물 발견 및 재료 설계를 포함한 작업을 완료하기 위해 설계되었음. 그림 출처: Bran et al., 2023복잡한 추론 및 상식 이해 능력 덕분에 LLM 기반 에이전트가 효과적으로 사용된 다양한 분야와 사례 연구를 강조합니다.주목할 만한 LLM 에이전트 사례Ma et\n",
      "\n",
      "Source: {'source': 'https://harheem.github.io/llm/2024/02/28/llm-agents.html', 'start_index': 7414}\n",
      "Content in a new tab), ToolBench(opens in a new tab), WebShop(opens in a new tab), Mobile-Env(opens in a new tab), WebArena(opens in a new tab), GentBench(opens in a new tab), RocoBench(opens in a new tab), EmotionBench(opens in a new tab), PEB(opens in a new tab), ClemBench(opens in a new tab), E2E(opens in a new tab) 등이 있습니다.도전과제LLM 에이전트는 아직 초기 단계이며, 구축 과정에는 많은 도전과 한계가 남아 있습니다:역할 수행 능력: LLM 기반 에이전트는 도메인에서 작업을 효과적으로 완료하기 위해 역할을 적응해야 합니다. LLM이 잘 표현하지 못하는 역할에 대해, 드문 역할이나 특이한 캐릭터를 대변하는 데이터로 LLM을 미세 조정할 수 있습니다.장기 계획 및 제한된 컨텍스트 길이: 장기적 계획 수립은 에이전트가 회복 불가능한 오류로 이어질 수 있는 도전적인 부분입니다. LLM의 지원 가능한 컨텍스트 길이에도 한계가 있어, 에이전트의 단기 기억 활용에 제한을 줄 수 있습니다.일반화된 인간 정렬: 다양한 인간 가치와 에이전트를 일치시키는 것은 표준 LLM과 함께 자주 발생하는 도전입니다. 고급 프롬프팅 전략을 설계하여 LLM을 재조정하는 것이 가능한 해결책 중 하나일 수 있습니다.프롬프트 견고성 및 신뢰성: LLM 에이전트는 메모리와 계획 등 다양한 모듈을 구동하는 여러 프롬프트를 포함할 수 있습니다. 프롬프트에 작은 변화만 있어도 LLM에서 신뢰성 문제가 발생하기 쉽습니다. LLM 에이전트는 전체 프롬프트 프레임워크를 포함하므로 견고성 문제에 더 취약할 수 있습니다. 잠재적 해결책으로는 프롬프트 요소를 시행착오를 통해 제작하거나, 프롬프트를 자동으로 최적화/조정하거나, GPT를 이용한 자동 프롬프트 생성 등이\n",
      "\n",
      "Source: {'source': 'https://harheem.github.io/llm/2024/02/28/llm-agents.html', 'start_index': 9009}\n",
      "Content and discrete reasoningA Survey on Large Language Model based Autonomous AgentsThe Rise and Potential of Large Language Model Based Agents: A SurveyLarge Language Model based Multi-Agents: A Survey of Progress and ChallengesCognitive Architectures for Language AgentsIntroduction to LLM AgentsLangChain AgentsBuilding Your First LLM Agent ApplicationBuilding LLM applications for productionAwesome LLM agentsAwesome LLM-Powered AgentFunctions, Tools and Agents with LangChain\n",
      "\n",
      "Source: {'source': 'https://harheem.github.io/llm/2024/02/28/llm-agents.html', 'start_index': 1}\n",
      "Content LLM Agents\n",
      "Prompt Engineering Guide 한글화 - LLM Agents\n",
      "LLM AgentsLLM 에이전트 프레임워크에이전트계획피드백이 없는 계획피드백이 있는 계획메모리도구LLM 에이전트 응용 사례주목할 만한 LLM 에이전트 사례LLM 에이전트 도구LLM 에이전트 평가도전과제참고 자료ResumeBlog\n",
      "LLM Agents\n",
      "Prompt Engineering Guide 한글화 - LLM Agents\n",
      "==================================\u001b[1m Ai Message \u001b[0m==================================\n",
      "\n",
      "Toolformer는 LLM(대형 언어 모델)이 외부 도구 API를 사용할 수 있도록 미세 조정하는 역할을 합니다. 즉, LLM이 외부 환경과 상호작용하기 위해 필요한 도구들을 효율적으로 호출하고 활용할 수 있게 만드는 기술입니다. 이를 통해 사용자 요청에 맞는 정보를 얻거나 부분 작업을 수행하는 데 도움을 줍니다. 예를 들어, 코드 실행, 검색 API 호출, 수학 엔진 사용 같은 작업을 LLM이 스스로 수행할 수 있도록 돕는 것입니다.\n"
     ]
    }
   ],
   "source": [
    "input_message = \"Toolformer가 하는 일이 뭔가요?\"\n",
    "\n",
    "for step in graph.stream(\n",
    "    {\"messages\": [{\"role\": \"user\", \"content\": input_message}]},\n",
    "    stream_mode=\"values\",\n",
    "    config=config,\n",
    "):\n",
    "    step[\"messages\"][-1].pretty_print()"
   ]
  },
  {
   "cell_type": "code",
   "execution_count": 14,
   "id": "1c115fd1-8fa7-4bdb-a88d-7f6285c42b5a",
   "metadata": {},
   "outputs": [
    {
     "name": "stdout",
     "output_type": "stream",
     "text": [
      "================================\u001b[1m Human Message \u001b[0m=================================\n",
      "\n",
      "그 것의 일반적인 방법을 알려줄 수 있나요?\n",
      "==================================\u001b[1m Ai Message \u001b[0m==================================\n",
      "\n",
      "Toolformer의 일반적인 방법은 대형 언어 모델을 외부 도구 API 호출에 적합하도록 미세 조정하는 과정입니다. 구체적으로 다음과 같은 절차를 포함합니다:\n",
      "\n",
      "1. 데이터 수집: LLM이 도구 API를 사용할 때 예상되는 입력-출력 쌍, 문장 내 도구 호출 위치 등을 포함하는 학습 데이터를 준비합니다.\n",
      "\n",
      "2. 도구 호출 학습: LLM에 도구를 호출하는 토큰이나 특정 형식의 명령어를 학습시켜, 자연어 문장 중 필요한 부분에서 적절한 도구 API를 호출하도록 만듭니다.\n",
      "\n",
      "3. 미세 조정(Fine-tuning): 수집된 데이터를 사용해 LLM을 미세 조정함으로써, 도구 호출과 자연어 생성 작업을 통합할 수 있게 합니다.\n",
      "\n",
      "4. 실행 및 평가: 미세 조정된 모델이 실제로 외부 도구를 적절히 호출하고 요청에 맞는 정보를 생성하는지 평가합니다.\n",
      "\n",
      "이 과정을 통해 LLM은 외부 도구와의 인터페이스를 원활히 수행하여 사용자 요청 해결에 필요한 작업을 자동으로 처리할 수 있습니다.\n"
     ]
    }
   ],
   "source": [
    "input_message = \"그 것의 일반적인 방법을 알려줄 수 있나요?\"\n",
    "\n",
    "for step in graph.stream(\n",
    "    {\"messages\": [{\"role\": \"user\", \"content\": input_message}]},\n",
    "    stream_mode=\"values\",\n",
    "    config=config,\n",
    "):\n",
    "    step[\"messages\"][-1].pretty_print()"
   ]
  },
  {
   "cell_type": "markdown",
   "id": "28c6d532-4244-4698-8174-8d8241f2be48",
   "metadata": {},
   "source": [
    "---------------------------\n",
    "모델이 두 번째 질문에서 생성한 쿼리는 대화의 문맥을 포함하고 있다는 점에 주목하세요.  "
   ]
  },
  {
   "cell_type": "markdown",
   "id": "caa22f60-b177-4deb-aa34-c4dff5f900d1",
   "metadata": {},
   "source": [
    "### **에이전트(Agents) 방식**  \n",
    "\n",
    "에이전트는 **대형 언어 모델(LLM)의 추론 능력을 활용하여 실행 중에 결정을 내리는 역할**을 합니다.  \n",
    "에이전트를 사용하면 검색 프로세스에서 추가적인 판단을 LLM에게 위임할 수 있습니다.  \n",
    "\n",
    "비록 앞서 설명한 **체인(chain)** 방식보다 동작이 예측 가능하지 않지만,  \n",
    "에이전트는 **하나의 쿼리에 대해 여러 검색 단계를 실행하거나, 단일 검색을 반복적으로 개선할 수 있는 능력**을 갖추고 있습니다.  \n",
    "\n",
    "아래에서는 **최소한의 RAG(Retrieval-Augmented Generation) 에이전트**를 구성합니다.  \n",
    "LangGraph의 **사전 구축된 ReAct 에이전트 생성자**를 사용하면, 이를 단 한 줄의 코드로 구현할 수 있습니다."
   ]
  },
  {
   "cell_type": "code",
   "execution_count": 18,
   "id": "cee62e1a-8e31-4da6-a046-4ccae2263c15",
   "metadata": {},
   "outputs": [],
   "source": [
    "import requests\n",
    "\n",
    "# 곱하기 도구\n",
    "@tool\n",
    "def multiply(x: float, y: float) -> float:\n",
    "    \"\"\"\n",
    "    x 와 y 를 곱한다.\n",
    "    \"\"\"\n",
    "    print(\"** multiply 함수 실행 **\", x, y)\n",
    "    return x * y\n",
    "\n",
    "# 현재의 온도 가져오기\n",
    "@tool\n",
    "def get_weather(latitude, longitude):\n",
    "    \"\"\"\n",
    "    주어진 위도(latitude)와 경도(longitude)를 기반으로 현재 기온(2m 온도)을 조회합니다.\n",
    "    \n",
    "    이 함수는 Open-Meteo API를 사용하여 실시간 기상 데이터를 가져오며,\n",
    "    반환값은 현재 기온(섭씨)입니다.\n",
    "    \n",
    "    매개변수:\n",
    "        latitude (float): 조회할 위치의 위도\n",
    "        longitude (float): 조회할 위치의 경도\n",
    "    \n",
    "    반환값:\n",
    "        float: 현재 2m 높이에서의 기온 (섭씨)\n",
    "    \"\"\"\n",
    "    response = requests.get(f\"https://api.open-meteo.com/v1/forecast?latitude={latitude}&longitude={longitude}&current=temperature_2m\")\n",
    "    data = response.json()\n",
    "    return data['current']['temperature_2m']\n",
    "\n",
    "# # 서울의 위도, 경도\n",
    "# get_weather(37.56667, 126.97806)"
   ]
  },
  {
   "cell_type": "code",
   "execution_count": 19,
   "id": "68f4e7e7-7602-408c-aeb6-f678d17034b9",
   "metadata": {},
   "outputs": [
    {
     "data": {
      "image/png": "[encoded data removed]",
      "text/plain": [
       "<langgraph.graph.state.CompiledStateGraph object at 0x000001A7A3979450>"
      ]
     },
     "execution_count": 19,
     "metadata": {},
     "output_type": "execute_result"
    }
   ],
   "source": [
    "from langgraph.prebuilt import create_react_agent\n",
    "\n",
    "tools = [retrieve, get_weather, multiply]\n",
    "\n",
    "agent_executor = create_react_agent(llm, tools, checkpointer=memory)\n",
    "agent_executor"
   ]
  },
  {
   "cell_type": "markdown",
   "id": "33f57c82-29a7-4fd7-98c1-8638e26b448c",
   "metadata": {},
   "source": [
    "이전 구현과의 핵심적인 차이점은, 실행이 최종 생성 단계에서 종료되는 대신, **도구 호출이 다시 원래 LLM 호출로 되돌아간다는 점**입니다.  \n",
    "즉, 모델은 검색된 문맥을 사용하여 질문에 답할 수도 있고, 더 많은 정보를 얻기 위해 **또 다른 도구 호출을 생성할 수도 있습니다**.  \n",
    "\n",
    "이제 이를 테스트해 보겠습니다.  \n",
    "보통 여러 번의 검색 단계가 필요한 질문을 구성하여 확인해 보겠습니다."
   ]
  },
  {
   "cell_type": "code",
   "execution_count": 20,
   "id": "e34647d4-07ca-4449-a0f3-e974b580036e",
   "metadata": {},
   "outputs": [
    {
     "name": "stdout",
     "output_type": "stream",
     "text": [
      "================================\u001b[1m Human Message \u001b[0m=================================\n",
      "\n",
      "LLM 에이전트 프레임워크의 핵심 구성 요소는 무엇인가요?\n",
      "\n",
      "서울의 지금 날씨에 20을 곱하면 숫자가 몇인지도 추가로 알려주세요.\n",
      "==================================\u001b[1m Ai Message \u001b[0m==================================\n",
      "Tool Calls:\n",
      "  retrieve (call_acTBKIU4lXCrWFDOrKfnZ170)\n",
      " Call ID: call_acTBKIU4lXCrWFDOrKfnZ170\n",
      "  Args:\n",
      "    query: LLM 에이전트 프레임워크의 핵심 구성 요소\n",
      "  get_weather (call_sM3WiMdHWiSN2YqRS9ppXFga)\n",
      " Call ID: call_sM3WiMdHWiSN2YqRS9ppXFga\n",
      "  Args:\n",
      "    latitude: 37.5665\n",
      "    longitude: 126.978\n",
      "=================================\u001b[1m Tool Message \u001b[0m=================================\n",
      "Name: get_weather\n",
      "\n",
      "31.1\n",
      "==================================\u001b[1m Ai Message \u001b[0m==================================\n",
      "Tool Calls:\n",
      "  multiply (call_rlEfPmVBGyGOE7KPbxEdnvQ7)\n",
      " Call ID: call_rlEfPmVBGyGOE7KPbxEdnvQ7\n",
      "  Args:\n",
      "    x: 31.1\n",
      "    y: 20\n",
      "** multiply 함수 실행 ** 31.1 20.0\n",
      "=================================\u001b[1m Tool Message \u001b[0m=================================\n",
      "Name: multiply\n",
      "\n",
      "622.0\n",
      "==================================\u001b[1m Ai Message \u001b[0m==================================\n",
      "\n",
      "LLM 에이전트 프레임워크의 핵심 구성 요소는 다음과 같습니다:\n",
      "1. 사용자 요청(User Request)\n",
      "2. 에이전트(Agent) 또는 두뇌(Brain) - 관리자의 역할을 하는 에이전트의 계획 체계(Planning)\n",
      "3. 기억(Memory) - 에이전트의 과거 행동을 기억하는 메모리\n",
      "4. 환경(Environment) - 에이전트가 미리 행동하는 공간\n",
      "5. 도구 베이스(Workspace) - 환경에 접속할 수 있도록 도와주는 도구들\n",
      "\n",
      "서울의 현재 기온은 약 31.1도(섭씨)입니다. 이 온도에 20을 곱하면 622.0이 됩니다.\n"
     ]
    }
   ],
   "source": [
    "config = {\"configurable\": {\"thread_id\": \"def234\"}}  \n",
    "\n",
    "input_message = (\n",
    "    \"LLM 에이전트 프레임워크의 핵심 구성 요소는 무엇인가요?\\n\\n\"\n",
    "    \"서울의 지금 날씨에 20을 곱하면 숫자가 몇인지도 추가로 알려주세요.\"\n",
    ")  \n",
    "# 사용자 입력 메시지 정의. 첫 번째 질문은 작업 분해의 표준 방법을 묻고,  \n",
    "# 이후 해당 방법의 실제 수행 방식까지 조사하도록 요청.\n",
    "for event in agent_executor.stream(\n",
    "    {\"messages\": [{\"role\": \"user\", \"content\": input_message}]},  \n",
    "    # 사용자 메시지를 포함한 입력을 에이전트 실행자(agent_executor)에 전달\n",
    "    stream_mode=\"values\",  # 각 단계의 전체 state 반환\n",
    "    config=config,  # 설정 적용\n",
    "):\n",
    "    event[\"messages\"][-1].pretty_print()  # 마지막 응답 메시지를 출력"
   ]
  },
  {
   "cell_type": "markdown",
   "id": "e255152f-8a21-4eb1-9dee-1da2e182e361",
   "metadata": {},
   "source": [
    "------------------------------\n",
    "에이전트가 수행하는 과정은 다음과 같습니다:  \n",
    "\n",
    "1. **작업 분해(Task Decomposition)의 표준 방법을 검색하기 위한 쿼리를 생성합니다.**  \n",
    "2. **첫 번째 답변을 받은 후, 해당 방법의 일반적인 확장을 검색하는 두 번째 쿼리를 생성합니다.**  \n",
    "3. **필요한 모든 문맥을 확보한 후, 최종적으로 질문에 대한 답변을 생성합니다.**  \n",
    "\n",
    "LangSmith 추적을 통해 전체 실행 과정(쿼리 생성 → 검색 → 응답)과 함께 **지연 시간(latency) 및 기타 메타데이터**를 확인할 수 있습니다."
   ]
  },
  {
   "cell_type": "code",
   "execution_count": null,
   "id": "6fe714b1-5bcc-4104-b5c3-c913c57184bf",
   "metadata": {},
   "outputs": [],
   "source": []
  }
 ],
 "metadata": {
  "colab": {
   "provenance": []
  },
  "kernelspec": {
   "display_name": "Python 3 (ipykernel)",
   "language": "python",
   "name": "python3"
  },
  "language_info": {
   "codemirror_mode": {
    "name": "ipython",
    "version": 3
   },
   "file_extension": ".py",
   "mimetype": "text/x-python",
   "name": "python",
   "nbconvert_exporter": "python",
   "pygments_lexer": "ipython3",
   "version": "3.11.13"
  }
 },
 "nbformat": 4,
 "nbformat_minor": 5
}
