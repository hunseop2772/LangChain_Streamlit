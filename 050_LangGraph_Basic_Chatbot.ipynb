{
 "cells": [
  {
   "cell_type": "markdown",
   "id": "d51f4020-8cb4-4561-b6d2-98589737dda8",
   "metadata": {},
   "source": [
    "# LangGraph를 사용한 고객 지원 챗봇을 구축\n",
    "\n",
    "- 웹 검색을 통해 일반적인 질문에 답변 \n",
    "- 대화 상태를 유지하여 연속적인 대화  \n",
    "- 복잡한 질문을 사람이 검토하도록 라우팅  \n",
    "- 사용자 지정 상태(Custom State)를 활용하여 챗봇의 동작 제어  \n",
    "- 대화 흐름을 되돌리고(Rewind), 다른 대화 경로 탐색 "
   ]
  },
  {
   "cell_type": "code",
   "execution_count": 1,
   "id": "a213aa99-6fe2-465e-a21b-b743cabfb74e",
   "metadata": {},
   "outputs": [
    {
     "data": {
      "text/plain": [
       "True"
      ]
     },
     "execution_count": 1,
     "metadata": {},
     "output_type": "execute_result"
    }
   ],
   "source": [
    "import os\n",
    "from dotenv import load_dotenv\n",
    "load_dotenv()"
   ]
  },
  {
   "cell_type": "code",
   "execution_count": 2,
   "id": "cb0aec0a-9a1e-45a3-bf66-d89895d172f8",
   "metadata": {},
   "outputs": [],
   "source": [
    "# LangSmith 추적 설정 활성화\n",
    "os.environ[\"LANGSMITH_TRACING\"] = \"true\""
   ]
  },
  {
   "cell_type": "code",
   "execution_count": 3,
   "id": "fec86f20-d4b0-4cfa-99a9-0c5a281f40f5",
   "metadata": {},
   "outputs": [],
   "source": [
    "from langchain_openai import ChatOpenAI\n",
    "\n",
    "llm = ChatOpenAI(model=\"gpt-4.1-nano\")"
   ]
  },
  {
   "cell_type": "markdown",
   "id": "8df89407-dce9-4ce5-bca0-4e3b04cd17cd",
   "metadata": {},
   "source": [
    "먼저 모델을 직접 사용해 봅니다. `ChatModel`은 LangChain의 **\"Runnable\"** 인스턴스이며, 이는 표준화된 인터페이스를 통해 상호작용할 수 있음을 의미합니다.  \n",
    "\n",
    "모델을 간단하게 호출하려면 `.invoke` 메서드에 **메시지 목록**을 전달하면 됩니다."
   ]
  },
  {
   "cell_type": "code",
   "execution_count": 4,
   "id": "bb8a90fd-c857-4763-b7a8-c14e5b710092",
   "metadata": {},
   "outputs": [
    {
     "data": {
      "text/plain": [
       "'안녕, 길동이! 만나서 반가워. 어떻게 도와줄까?'"
      ]
     },
     "execution_count": 4,
     "metadata": {},
     "output_type": "execute_result"
    }
   ],
   "source": [
    "from langchain_core.messages import HumanMessage\n",
    "\n",
    "response = llm.invoke([HumanMessage(content=\"안녕! 나는 길동이야.\")])\n",
    "response.content"
   ]
  },
  {
   "cell_type": "markdown",
   "id": "71051507-d55c-4af8-b843-f6708ef3c6f5",
   "metadata": {},
   "source": [
    "모델 자체는 **상태(state)** 라는 개념을 가지고 있지 않습니다. 예를 들어, 후속 질문을 하면:"
   ]
  },
  {
   "cell_type": "code",
   "execution_count": 5,
   "id": "c75c18fa-413d-483c-be3c-219c7848c3d5",
   "metadata": {},
   "outputs": [
    {
     "data": {
      "text/plain": [
       "'죄송하지만, 제가 이전 대화 내용을 기억하지 않아서 당신의 이름을 알지 못해요. 이름을 다시 알려주시면 도와드릴 수 있어요!'"
      ]
     },
     "execution_count": 5,
     "metadata": {},
     "output_type": "execute_result"
    }
   ],
   "source": [
    "response = llm.invoke([HumanMessage(content=\"내 이름이 뭐라고 했지?\")])\n",
    "response.content"
   ]
  },
  {
   "cell_type": "code",
   "execution_count": 6,
   "id": "26f2aba7-ac8f-4da5-b142-9318db879d9f",
   "metadata": {},
   "outputs": [
    {
     "data": {
      "text/plain": [
       "'당신의 이름이 길동이라고 하셨어요.'"
      ]
     },
     "execution_count": 6,
     "metadata": {},
     "output_type": "execute_result"
    }
   ],
   "source": [
    "from langchain_core.messages import AIMessage\n",
    "\n",
    "response = llm.invoke(\n",
    "    [\n",
    "        HumanMessage(content=\"안녕! 나는 길동이야.\"),\n",
    "        AIMessage(content=\"안녕하세요, 길동님. 무엇을 도와 드릴까요?\"),\n",
    "        HumanMessage(content=\"내 이름이 뭐라고 했지?\"),\n",
    "    ]\n",
    ")\n",
    "\n",
    "response.content"
   ]
  },
  {
   "cell_type": "markdown",
   "id": "e5b06d60-c560-4b1d-9202-05f16b3cac0d",
   "metadata": {},
   "source": [
    "<br>\n",
    "이제 좋은 응답을 받는 것을 확인할 수 있습니다!  \n",
    "\n",
    "이것이 챗봇이 **대화형 상호작용**을 할 수 있는 기본 아이디어입니다.  "
   ]
  },
  {
   "cell_type": "markdown",
   "id": "59c7a1b5-6039-4915-9b70-61b4d825737f",
   "metadata": {},
   "source": [
    "## 챗봇에 메모리 기능 추가¶\n",
    "\n",
    "현재 챗봇은 **사용자 질문에 도구를 활용해 답변할 수 있지만, 이전 대화의 맥락을 기억하지 못합니다.**  \n",
    "이 때문에 **일관된 멀티턴(Multi-turn) 대화를 진행하는 데 한계가 있습니다.**  \n",
    "\n",
    "LangGraph는 **\"지속적 체크포인트(Persistent Checkpointing)\"** 기능을 통해 이 문제를 해결합니다.  \n",
    "\n",
    "그래프를 컴파일할 때 checkpointing을 활성화하고 그래프를 호출할 때 `thread_id`를 제공하면, LangGraph가 자동으로 상태(state)를 저장하고, 다음 실행 시 이전 상태를 복원합니다.  \n",
    "\n",
    "즉, **동일한 `thread_id`** 를 사용하여 그래프를 호출하면, 이전 대화 상태를 불러와서 이어서 대화할 수 있습니다!"
   ]
  },
  {
   "cell_type": "code",
   "execution_count": 7,
   "id": "ccf74912-e1bd-4753-96f0-ad3398a9590a",
   "metadata": {},
   "outputs": [],
   "source": [
    "from langgraph.checkpoint.memory import MemorySaver\n",
    "\n",
    "memory = MemorySaver()"
   ]
  },
  {
   "cell_type": "markdown",
   "id": "4a1e5e51-8ec4-4b53-9154-c83b0097756a",
   "metadata": {},
   "source": [
    "우리는 현재 **메모리를 활용하는(in-memory) 체크포인터**를 사용하고 있습니다.  \n",
    "\n",
    "이 방식은 튜토리얼 환경에서는 편리하지만, 데이터가 메모리에만 저장되므로 영구적이지 않습니다. 실제 프로덕션 환경에서는 `SqliteSaver` 또는 `PostgresSaver`를 사용하여 데이터베이스(DB)와 연결하는 것이 일반적입니다.\n",
    "\n",
    "---"
   ]
  },
  {
   "cell_type": "code",
   "execution_count": 8,
   "id": "4bd97d49-5c4f-422e-8789-9e5409a14ae5",
   "metadata": {},
   "outputs": [
    {
     "data": {
      "image/png": "[encoded data removed]",
      "text/plain": [
       "<langgraph.graph.state.CompiledStateGraph object at 0x000001952D3E0C10>"
      ]
     },
     "execution_count": 8,
     "metadata": {},
     "output_type": "execute_result"
    }
   ],
   "source": [
    "from langgraph.graph import START, MessagesState, StateGraph\n",
    "\n",
    "# 새로운 그래프 정의\n",
    "workflow = StateGraph(state_schema=MessagesState)\n",
    "\n",
    "# 모델을 호출하는 함수 정의\n",
    "def call_model(state: MessagesState):\n",
    "    response = llm.invoke(state[\"messages\"])\n",
    "    return {\"messages\": response}\n",
    "\n",
    "# 그래프의 (단일) 노드 정의\n",
    "workflow.add_edge(START, \"model\")\n",
    "workflow.add_node(\"model\", call_model)\n",
    "\n",
    "# 메모리 추가\n",
    "memory = MemorySaver()\n",
    "app = workflow.compile(checkpointer=memory)\n",
    "app"
   ]
  },
  {
   "cell_type": "markdown",
   "id": "b38c5908-301c-4570-a39e-3890e00d3249",
   "metadata": {},
   "source": [
    "이제 챗봇과 상호작용할 수 있습니다. 먼저, 이 대화를 식별할 수 있는 **`thread`(스레드)** 를 선택합니다."
   ]
  },
  {
   "cell_type": "code",
   "execution_count": 9,
   "id": "de68f3f7-6674-4331-9306-e5c6f05fbda8",
   "metadata": {},
   "outputs": [
    {
     "name": "stdout",
     "output_type": "stream",
     "text": [
      "==================================\u001b[1m Ai Message \u001b[0m==================================\n",
      "\n",
      "안녕하세요, 길동님! 만나서 반가워요. 어떻게 도와드릴까요?\n"
     ]
    }
   ],
   "source": [
    "config = {\"configurable\": {\"thread_id\": \"1\"}}\n",
    "\n",
    "user_input = [HumanMessage(\"안녕하세요! 제 이름은 길동이에요.\")]\n",
    "\n",
    "# config는 stream() 또는 invoke()의 두 번째 인자\n",
    "output = app.invoke(\n",
    "    {\"messages\": user_input},\n",
    "    config,\n",
    ")\n",
    "\n",
    "output['messages'][-1].pretty_print()"
   ]
  },
  {
   "cell_type": "markdown",
   "id": "79049d77-3779-4e35-90d7-897703930630",
   "metadata": {},
   "source": [
    "이제 후속 질문(follow-up question)을 해봅시다. 챗봇이 사용자의 이름을 기억하는지 확인해 봅니다."
   ]
  },
  {
   "cell_type": "code",
   "execution_count": 10,
   "id": "c550ffba-4df9-479c-a130-2338f7132ab3",
   "metadata": {},
   "outputs": [
    {
     "name": "stdout",
     "output_type": "stream",
     "text": [
      "==================================\u001b[1m Ai Message \u001b[0m==================================\n",
      "\n",
      "길동님이시라고 하셨으니, 이름이 길동이신 것 같아요!\n"
     ]
    }
   ],
   "source": [
    "user_input = [HumanMessage(\"내 이름이 뭐야?\")]\n",
    "\n",
    "output = app.invoke(\n",
    "    {\"messages\": user_input},\n",
    "    config,\n",
    ")\n",
    "\n",
    "output['messages'][-1].pretty_print()"
   ]
  },
  {
   "cell_type": "code",
   "execution_count": 11,
   "id": "fd651247-ce10-4cae-b1ea-6d3a283ae48a",
   "metadata": {},
   "outputs": [
    {
     "name": "stdout",
     "output_type": "stream",
     "text": [
      "==================================\u001b[1m Ai Message \u001b[0m==================================\n",
      "\n",
      "죄송해요, 제가 당신의 이름을 알지 못해요.\n"
     ]
    }
   ],
   "source": [
    "config = {\"configurable\": {\"thread_id\": \"2\"}}\n",
    "\n",
    "user_input = [HumanMessage(\"내 이름이 뭐야?\")]\n",
    "\n",
    "output = app.invoke(\n",
    "    {\"messages\": user_input},\n",
    "    config,\n",
    ")\n",
    "\n",
    "output['messages'][-1].pretty_print()"
   ]
  },
  {
   "cell_type": "code",
   "execution_count": 12,
   "id": "a0d92f72-cbc9-4416-91bb-5fe8e2fa9fa6",
   "metadata": {},
   "outputs": [
    {
     "name": "stdout",
     "output_type": "stream",
     "text": [
      "==================================\u001b[1m Ai Message \u001b[0m==================================\n",
      "\n",
      "당신의 이름은 길동이라고 하셨어요! 맞나요?\n"
     ]
    }
   ],
   "source": [
    "config = {\"configurable\": {\"thread_id\": \"1\"}}\n",
    "user_input = [HumanMessage(\"내 이름이 뭐야?\")]\n",
    "\n",
    "output = app.invoke(\n",
    "    {\"messages\": user_input},\n",
    "    config,\n",
    ")\n",
    "\n",
    "output['messages'][-1].pretty_print()"
   ]
  },
  {
   "cell_type": "markdown",
   "id": "3c294f10-0aaf-4feb-8642-562f9f22ba90",
   "metadata": {},
   "source": [
    "### 프롬프트 템플릿(Prompt Templates)을 사용하여 LLM 호출 최적화\n",
    "\n",
    "**프롬프트 템플릿** 은 **원시 사용자 입력(raw user input)** 을 LLM이 처리할 수 있는 형식으로 변환하는 데 도움을 줍니다.   \n",
    "\n",
    "1. 먼저, **시스템 메시지(system message)** 를 추가하여 **사용자 정의 지침(custom instructions)** 을 포함시킵니다. (여전히 메시지를 입력으로 사용)  \n",
    "2. 다음으로, 메시지 외에 **더 많은 입력 정보** 를 추가합니다.  \n",
    "\n",
    "#### **시스템 메시지(System Message) 추가하기**\n",
    "\n",
    "시스템 메시지를 추가하기 위해 **`ChatPromptTemplate`** 을 생성합니다. 여기서는 메시지 전달을 위해 **`MessagesPlaceholder`** 를 사용하겠습니다.  \n",
    "\n",
    "이렇게 하면 LLM에 전달되는 입력이 더 구조화되고, 챗봇의 동작을 더 정교하게 제어할 수 있습니다.  \n",
    "\n",
    "```\n",
    "┌─────────────────────────────┐\n",
    "│       LangGraph State       │\n",
    "│  MessagesState = {\"messages\": [...] } │\n",
    "└─────────────────────────────┘\n",
    "             │\n",
    "             ▼\n",
    " ┌────────────────────────────────────┐\n",
    " │ ChatPromptTemplate.from_messages  │\n",
    " │ ┌──────────────────────────────┐ │\n",
    " │ │ \"system\": \"친구처럼 말해줘\"     │ │\n",
    " │ │ MessagesPlaceholder(\"messages\") │◄─── state[\"messages\"]\n",
    " │ └──────────────────────────────┘ │\n",
    " └────────────────────────────────────┘\n",
    "             │\n",
    "             ▼\n",
    "    llm.invoke(prompt) 수행\n",
    "             │\n",
    "             ▼\n",
    " ┌──────────────────────────────┐\n",
    " │   LLM 응답: AIMessage(...)   │\n",
    " └──────────────────────────────┘\n",
    "             │\n",
    "             ▼\n",
    " ┌──────────────────────────────┐\n",
    " │ return {\"messages\": response}│ ──► 다음 Graph Step 으로 상태 전달\n",
    " └──────────────────────────────┘\n",
    "```"
   ]
  },
  {
   "cell_type": "code",
   "execution_count": 13,
   "id": "a7a0b996-03aa-43fe-87e8-497ffa7f4c03",
   "metadata": {},
   "outputs": [],
   "source": [
    "from langchain_core.prompts import ChatPromptTemplate, MessagesPlaceholder\n",
    "\n",
    "# LLM이 사용자 입력을 더 잘 처리할 수 있도록 프롬프트 템플릿을 설정합니다.\n",
    "prompt_template = ChatPromptTemplate.from_messages(\n",
    "    [\n",
    "        # LLM의 동작 방식을 정의하는 지침\n",
    "        (\n",
    "            \"system\",\n",
    "            \"당신은 친구 처럼 말합니다. 모든 질문에 최선을 다해 대답하세요.\",\n",
    "        ),\n",
    "\n",
    "        # Messages Placeholder - 이전 대화 메시지들을 전달합\n",
    "        MessagesPlaceholder(variable_name=\"messages\"),\n",
    "    ]\n",
    ")"
   ]
  },
  {
   "cell_type": "markdown",
   "id": "22c33e0d-797c-4456-8c02-4d61579dd66a",
   "metadata": {},
   "source": [
    "이제 이 템플릿을 통합하여 애플리케이션을 업데이트할 수 있습니다."
   ]
  },
  {
   "cell_type": "code",
   "execution_count": 14,
   "id": "c490a87c-0ab3-4c3e-8d77-5bbe38a48e1a",
   "metadata": {},
   "outputs": [
    {
     "data": {
      "image/png": "[encoded data removed]",
      "text/plain": [
       "<langgraph.graph.state.CompiledStateGraph object at 0x000001954B793890>"
      ]
     },
     "execution_count": 14,
     "metadata": {},
     "output_type": "execute_result"
    }
   ],
   "source": [
    "from langgraph.graph import START, MessagesState, StateGraph\n",
    "\n",
    "# 상태 스키마(State)를 정의하여 그래프 생성기 초기화\n",
    "workflow = StateGraph(state_schema=MessagesState)\n",
    "\n",
    "# 모델 호출 함수 정의\n",
    "def chatbot(state: MessagesState):\n",
    "    # 현재 상태(state)에 포함된 메시지를 기반으로 프롬프트 생성\n",
    "    prompt = prompt_template.invoke(state)\n",
    "    \n",
    "    # 생성된 프롬프트를 LLM에 전달하여 응답을 생성\n",
    "    response = llm.invoke(prompt)\n",
    "    \n",
    "    # LLM 응답을 딕셔너리 형태로 반환 (다음 상태로 전달됨)\n",
    "    return {\"messages\": response}\n",
    "\n",
    "# chatbot 노드를 그래프에 추가\n",
    "workflow.add_node(\"chatbot\", chatbot)\n",
    "\n",
    "# MemorySaver를 사용하여 대화 상태를 저장할 메모리 객체 생성\n",
    "memory = MemorySaver()\n",
    "\n",
    "# 그래프의 시작 지점(START)에서 chatbot 노드로 연결\n",
    "workflow.add_edge(START, \"chatbot\")\n",
    "\n",
    "# 모든 구성 요소를 종합하여 그래프를 컴파일 (메모리를 체크포인터로 사용)\n",
    "graph = workflow.compile(checkpointer=memory)\n",
    "\n",
    "# 컴파일된 그래프 객체를 확인\n",
    "graph"
   ]
  },
  {
   "cell_type": "code",
   "execution_count": 15,
   "id": "2dd72123-4664-46b0-b462-ba21ae0e7753",
   "metadata": {},
   "outputs": [
    {
     "name": "stdout",
     "output_type": "stream",
     "text": [
      "==================================\u001b[1m Ai Message \u001b[0m==================================\n",
      "\n",
      "안녕 길동이! 반가워. 오늘 기분은 어때? 무엇이든 이야기하고 싶으면 편하게 말해줘!\n"
     ]
    }
   ],
   "source": [
    "# 'configurable' 키를 사용하여 추가적인 설정 값을 전달합니다.\n",
    "# 여기서는 'thread_id'를 사용하여 특정 대화 스레드를 식별합니다.\n",
    "config = {\"configurable\": {\"thread_id\": \"abc345\"}}\n",
    "\n",
    "# 메시지 목록에 사용자 메시지 추가\n",
    "input_messages = [HumanMessage(\"안녕. 나는 길동이야.\")]\n",
    "\n",
    "# 애플리케이션 호출\n",
    "# 메시지 상태(State), 설정(config) 전달\n",
    "output = graph.invoke({\"messages\": input_messages}, config)\n",
    "\n",
    "output[\"messages\"][-1].pretty_print()"
   ]
  },
  {
   "cell_type": "code",
   "execution_count": 16,
   "id": "197e0f80-c2c4-44d0-9f91-e0da1fa2c1e8",
   "metadata": {},
   "outputs": [
    {
     "name": "stdout",
     "output_type": "stream",
     "text": [
      "==================================\u001b[1m Ai Message \u001b[0m==================================\n",
      "\n",
      "미안하지만, 너의 이름이 뭐였는지 기억이 안 나. 혹시 다시 알려줄래?\n"
     ]
    }
   ],
   "source": [
    "# 'configurable' 키를 사용하여 추가적인 설정 값을 전달합니다.\n",
    "# 여기서는 'thread_id'를 사용하여 특정 대화 스레드를 식별합니다.\n",
    "config = {\"configurable\": {\"thread_id\": \"abc345\"}}\n",
    "\n",
    "# 메시지 목록에 사용자 메시지 추가\n",
    "input_messages = [HumanMessage(\"내 이름이 뭐지?\")]\n",
    "\n",
    "# 애플리케이션 호출\n",
    "# 메시지 상태(State), 설정(config) 전달\n",
    "output = graph.invoke({\"messages\": input_messages}, config)\n",
    "\n",
    "output[\"messages\"][-1].pretty_print()"
   ]
  },
  {
   "cell_type": "code",
   "execution_count": 17,
   "id": "cb13dd19-c0ef-4197-b0aa-b516c76f517c",
   "metadata": {},
   "outputs": [
    {
     "name": "stdout",
     "output_type": "stream",
     "text": [
      "[HumanMessage(content='안녕. 나는 길동이야.', additional_kwargs={}, response_metadata={}, id='49b3731c-d427-4a5d-9675-2ff2eb71dda6'), AIMessage(content='안녕 길동이! 반가워. 오늘 기분은 어때? 무엇이든 이야기하고 싶으면 편하게 말해줘!', additional_kwargs={'refusal': None}, response_metadata={'token_usage': {'completion_tokens': 30, 'prompt_tokens': 40, 'total_tokens': 70, 'completion_tokens_details': {'accepted_prediction_tokens': 0, 'audio_tokens': 0, 'reasoning_tokens': 0, 'rejected_prediction_tokens': 0}, 'prompt_tokens_details': {'audio_tokens': 0, 'cached_tokens': 0}}, 'model_name': 'gpt-4.1-nano-2025-04-14', 'system_fingerprint': 'fp_38343a2f8f', 'id': 'chatcmpl-Bq8cJum8UvbASBXnLwBD3S7mtsR0C', 'service_tier': 'default', 'finish_reason': 'stop', 'logprobs': None}, id='run--f4513157-6e15-48a7-ad66-23ca06740e2b-0', usage_metadata={'input_tokens': 40, 'output_tokens': 30, 'total_tokens': 70, 'input_token_details': {'audio': 0, 'cache_read': 0}, 'output_token_details': {'audio': 0, 'reasoning': 0}}), HumanMessage(content='내 이름이 뭐지?', additional_kwargs={}, response_metadata={}, id='d829a0dc-12df-4652-9382-4449009fc846'), AIMessage(content='미안하지만, 너의 이름이 뭐였는지 기억이 안 나. 혹시 다시 알려줄래?', additional_kwargs={'refusal': None}, response_metadata={'token_usage': {'completion_tokens': 24, 'prompt_tokens': 84, 'total_tokens': 108, 'completion_tokens_details': {'accepted_prediction_tokens': 0, 'audio_tokens': 0, 'reasoning_tokens': 0, 'rejected_prediction_tokens': 0}, 'prompt_tokens_details': {'audio_tokens': 0, 'cached_tokens': 0}}, 'model_name': 'gpt-4.1-nano-2025-04-14', 'system_fingerprint': 'fp_38343a2f8f', 'id': 'chatcmpl-Bq8cNGTv7J4izHturBA2wKJExuRyP', 'service_tier': 'default', 'finish_reason': 'stop', 'logprobs': None}, id='run--4bb436c5-3845-4ab2-be42-21e12ca758c0-0', usage_metadata={'input_tokens': 84, 'output_tokens': 24, 'total_tokens': 108, 'input_token_details': {'audio': 0, 'cache_read': 0}, 'output_token_details': {'audio': 0, 'reasoning': 0}})]\n"
     ]
    }
   ],
   "source": [
    "state_snapshot = graph.get_state(config={\"configurable\":{\"thread_id\": \"abc345\"}})\n",
    "print(state_snapshot.values[\"messages\"])  # 이전 메시지 리스트"
   ]
  },
  {
   "cell_type": "markdown",
   "id": "12d0e7ca-42fd-4a6d-a816-a1f38c68cfec",
   "metadata": {},
   "source": [
    "### 무한 loop 로 Chatbot 구현"
   ]
  },
  {
   "cell_type": "code",
   "execution_count": 18,
   "id": "e745c557-6881-4ea8-b557-05cd5104d7c8",
   "metadata": {},
   "outputs": [
    {
     "name": "stdin",
     "output_type": "stream",
     "text": [
      "User:  안녕 난 길동이야\n"
     ]
    },
    {
     "name": "stdout",
     "output_type": "stream",
     "text": [
      "==================================\u001b[1m Ai Message \u001b[0m==================================\n",
      "\n",
      "안녕 길동이! 반가워. 오늘 기분은 어때? 뭐 하고 싶거나 궁금한 거 있으면 말해줘!\n"
     ]
    },
    {
     "name": "stdin",
     "output_type": "stream",
     "text": [
      "User:  랭그래프가 뭐야\n"
     ]
    },
    {
     "name": "stdout",
     "output_type": "stream",
     "text": [
      "==================================\u001b[1m Ai Message \u001b[0m==================================\n",
      "\n",
      "랭그래프는 어떤 데이터를 순위별로 보여주는 그래프야. 예를 들어, 인기 있는 영화, 선수, 노래 등을 인기순(순위)에 따라 표시하는 거지. 보통 가로 또는 세로 축에 순위를 적고, 각각에 해당하는 항목들을 보여줘. 이렇게 하면 누가 1등인지, 10등인지 한눈에 알 수 있어서 좋아! 혹시 더 궁금한 게 있거나 구체적인 예시가 필요하면 알려줘!\n"
     ]
    },
    {
     "name": "stdin",
     "output_type": "stream",
     "text": [
      "User:  내 이름이 뭐야?\n"
     ]
    },
    {
     "name": "stdout",
     "output_type": "stream",
     "text": [
      "==================================\u001b[1m Ai Message \u001b[0m==================================\n",
      "\n",
      "아, 길동이네! 내가 이름은 몰라도, 네가 길동이라고 알려줬으니까 그렇게 부를게! 혹시 다른 별명이나 특별한 이름이 있어?\n"
     ]
    },
    {
     "name": "stdin",
     "output_type": "stream",
     "text": [
      "User:  QUIT\n"
     ]
    },
    {
     "name": "stdout",
     "output_type": "stream",
     "text": [
      "Goodbye!\n"
     ]
    }
   ],
   "source": [
    "# 'configurable' 키를 사용하여 추가적인 설정 값을 전달합니다.\n",
    "# 여기서는 'thread_id'를 사용하여 특정 대화 스레드를 식별합니다.\n",
    "memory = MemorySaver()\n",
    "\n",
    "# 그래프를 메모리 체크포인트와 함께 컴파일합니다.\n",
    "graph = workflow.compile(checkpointer=memory)\n",
    "\n",
    "config = {\"configurable\": {\"thread_id\": \"abc345\"}}\n",
    "\n",
    "while True:\n",
    "    user_input = input(\"User: \")\n",
    "    if user_input.lower() in [\"quit\", \"exit\", \"q\"]:\n",
    "        print(\"Goodbye!\")\n",
    "        break\n",
    "\n",
    "    output = graph.invoke({\"messages\": user_input}, config)\n",
    "    output[\"messages\"][-1].pretty_print()"
   ]
  },
  {
   "cell_type": "markdown",
   "id": "864a067a-541c-45cc-9646-308ee6c51968",
   "metadata": {},
   "source": [
    "------------\n",
    "이제는 chatbot이 외부 정보를 접근할 수도 있고 대화 내용을 기억할 수도 있습니다."
   ]
  },
  {
   "cell_type": "markdown",
   "id": "820256cc-40c5-45d2-92ae-010e82d40b01",
   "metadata": {},
   "source": [
    "### 상태 (State)\n",
    "\n",
    "- node 와 node 간에 정보를 전달할 때 State 객체데 담아 전달\n",
    "- TypedDict : 파이썬 dict 에 타입 힌팅을 추가한 개념\n",
    "- 모든 값을 다 채우지 않아도 된다.\n",
    "- 새로운 node에서 값을 overwrite 방식으로 채운다.\n",
    "- Reducer(add_messages 혹은 operator.add): 자동으로 list에 메시지를 추가해 주는 기능"
   ]
  },
  {
   "cell_type": "code",
   "execution_count": 19,
   "id": "3c647220-d393-43e6-bcec-db078b3e068a",
   "metadata": {},
   "outputs": [
    {
     "name": "stdout",
     "output_type": "stream",
     "text": [
      "[HumanMessage(content='안녕하세요', additional_kwargs={}, response_metadata={}, id='1'), AIMessage(content='반갑습니다', additional_kwargs={}, response_metadata={}, id='2')]\n"
     ]
    }
   ],
   "source": [
    "from typing import Annotated, TypedDict\n",
    "from langgraph.graph.message import add_messages\n",
    "\n",
    "class GraphState(TypedDict):\n",
    "    question: Annotated[list, add_messages]  #질문(query) 누적\n",
    "    context: Annotated[str, \"Context\"]       # 문서 검색 결과\n",
    "    answer: Annotated[str, \"Answer\"]         # 답변\n",
    "    messages: Annotated[list, add_messages]  #message 누적\n",
    "\n",
    "from langchain_core.messages import AIMessage, HumanMessage\n",
    "from langgraph.graph import add_messages\n",
    "\n",
    "# Reducer 사용 예시\n",
    "msg1 = [HumanMessage(content=\"안녕하세요\", id=\"1\")]\n",
    "msg2 = [AIMessage(content=\"반갑습니다\", id=\"2\")]\n",
    "\n",
    "result1 = add_messages(msg1, msg2)\n",
    "print(result1)"
   ]
  },
  {
   "cell_type": "code",
   "execution_count": 20,
   "id": "e437c529-6ba8-4f01-8ddc-2bdff7e1ec26",
   "metadata": {},
   "outputs": [
    {
     "data": {
      "image/png": "[encoded data removed]",
      "text/plain": [
       "<langgraph.graph.state.CompiledStateGraph object at 0x000001954B73A810>"
      ]
     },
     "execution_count": 20,
     "metadata": {},
     "output_type": "execute_result"
    }
   ],
   "source": [
    "# GraphState 사용 예시\n",
    "def generate_answer(state: GraphState) -> dict:\n",
    "    # prompt 구성\n",
    "    prompt = f\"\"\"\n",
    "    질문: {state['question'][-1].content}\n",
    "    문맥: {state['context']}\n",
    "    답변해 주세요.\n",
    "    \"\"\"\n",
    "\n",
    "    response = llm.invoke(prompt)\n",
    "\n",
    "    # answer 필드에는 텍스트만 저장\n",
    "    answer_text = response.content if isinstance(response, AIMessage) else response\n",
    "\n",
    "    # messages에는 AIMessage 형태로 저장\n",
    "    if isinstance(response, AIMessage):\n",
    "        new_msg = response                       # 이미 AIMessage\n",
    "    else:\n",
    "        new_msg = AIMessage(content=response)    # 문자열이면 래핑\n",
    "\n",
    "    return {\n",
    "        \"answer\": answer_text,\n",
    "        \"messages\": [new_msg]\n",
    "    }\n",
    "\n",
    "workflow = StateGraph(GraphState)\n",
    "\n",
    "workflow.add_node(\"generate_answer\", generate_answer)\n",
    "workflow.add_edge(START, \"generate_answer\")\n",
    "\n",
    "graph = workflow.compile()\n",
    "graph"
   ]
  },
  {
   "cell_type": "code",
   "execution_count": 21,
   "id": "e58b33cf-cfa0-4cd1-81ab-ab1e8dd40499",
   "metadata": {},
   "outputs": [
    {
     "name": "stdout",
     "output_type": "stream",
     "text": [
      "답변: LangChain은 자연어 처리에 사용되는 파이썬 프레임워크로, 대형 언어 모델(LLM)을 여러 구성 요소로 나누어 이를 체인 형태로 연결하여 복잡한 작업을 수행할 수 있도록 도와줍니다. 이를 통해 개발자는 복잡한 자연어처리 애플리케이션을 더 쉽고 효율적으로 구축할 수 있습니다.\n"
     ]
    }
   ],
   "source": [
    "initial_state = {\n",
    "    \"question\": [HumanMessage(content=\"LangChain이 뭔가요?\")],\n",
    "    \"context\": \"LangChain은 LLM을 구성요소로 나누고 체인으로 구성할 수 있는 파이썬 프레임워크입니다.\",\n",
    "    \"answer\": \"\",\n",
    "    \"messages\": [HumanMessage(content=\"LangChain이 뭔가요?\")]\n",
    "}\n",
    "\n",
    "# 실행\n",
    "result = graph.invoke(initial_state)\n",
    "\n",
    "# 결과 출력\n",
    "print(\"답변:\", result[\"answer\"])"
   ]
  },
  {
   "cell_type": "code",
   "execution_count": 22,
   "id": "7278b272-31ec-44a4-a664-99b3dcaa9c7a",
   "metadata": {},
   "outputs": [
    {
     "data": {
      "text/plain": [
       "{'question': [HumanMessage(content='LangChain이 뭔가요?', additional_kwargs={}, response_metadata={}, id='c3ae3cbe-f0a9-4f27-b39f-c3ba56d2489b')],\n",
       " 'context': 'LangChain은 LLM을 구성요소로 나누고 체인으로 구성할 수 있는 파이썬 프레임워크입니다.',\n",
       " 'answer': 'LangChain은 자연어 처리에 사용되는 파이썬 프레임워크로, 대형 언어 모델(LLM)을 여러 구성 요소로 나누어 이를 체인 형태로 연결하여 복잡한 작업을 수행할 수 있도록 도와줍니다. 이를 통해 개발자는 복잡한 자연어처리 애플리케이션을 더 쉽고 효율적으로 구축할 수 있습니다.',\n",
       " 'messages': [HumanMessage(content='LangChain이 뭔가요?', additional_kwargs={}, response_metadata={}, id='cff13b81-cba6-4b5c-82ae-df3ad501e331'),\n",
       "  AIMessage(content='LangChain은 자연어 처리에 사용되는 파이썬 프레임워크로, 대형 언어 모델(LLM)을 여러 구성 요소로 나누어 이를 체인 형태로 연결하여 복잡한 작업을 수행할 수 있도록 도와줍니다. 이를 통해 개발자는 복잡한 자연어처리 애플리케이션을 더 쉽고 효율적으로 구축할 수 있습니다.', additional_kwargs={'refusal': None}, response_metadata={'token_usage': {'completion_tokens': 85, 'prompt_tokens': 60, 'total_tokens': 145, 'completion_tokens_details': {'accepted_prediction_tokens': 0, 'audio_tokens': 0, 'reasoning_tokens': 0, 'rejected_prediction_tokens': 0}, 'prompt_tokens_details': {'audio_tokens': 0, 'cached_tokens': 0}}, 'model_name': 'gpt-4.1-nano-2025-04-14', 'system_fingerprint': 'fp_38343a2f8f', 'id': 'chatcmpl-Bq8dfUraobbh3xARtWaabe1ET4Eco', 'service_tier': 'default', 'finish_reason': 'stop', 'logprobs': None}, id='run--f3d51aad-b457-419c-94ba-933b0a2f744b-0', usage_metadata={'input_tokens': 60, 'output_tokens': 85, 'total_tokens': 145, 'input_token_details': {'audio': 0, 'cache_read': 0}, 'output_token_details': {'audio': 0, 'reasoning': 0}})]}"
      ]
     },
     "execution_count": 22,
     "metadata": {},
     "output_type": "execute_result"
    }
   ],
   "source": [
    "result"
   ]
  },
  {
   "cell_type": "markdown",
   "id": "efa43a1c-a7c5-4dd0-a475-ffdc8051900b",
   "metadata": {},
   "source": [
    "### 대화 기록 관리\n",
    "챗봇을 구축할 때 이해해야 할 중요한 개념 중 하나는 대화 기록을 관리하는 방법입니다. 관리하지 않으면 메시지 목록이 무한정 늘어나 LLM 컨텍스트 창을 초과할 수 있습니다. 따라서 전달하는 메시지의 크기를 제한하는 단계를 추가하는 것이 중요합니다.\n",
    "\n",
    "중요한 점은 프롬프트 템플릿을 사용하기 전, 그리고 메시지 기록에서 이전 메시지를 로드한 후에 이 작업을 수행해야 한다는 것입니다.\n",
    "\n",
    "메시지 키를 적절히 수정하는 간단한 단계를 프롬프트 앞에 추가한 다음, 해당 새 체인을 Message History class로 래핑하면 됩니다.\n",
    "\n",
    "LangChain에는 메시지 목록을 관리하기 위한 몇 가지 기본 제공 도우미가 있습니다. 이 경우 trim_messages 도우미를 사용하여 모델로 전송하는 메시지 수를 줄여 보겠습니다. 트리머를 사용하면 보관할 토큰 수와 시스템 메시지를 항상 보관할지 여부, 부분 메시지 허용 여부 등의 매개변수를 지정할 수 있습니다."
   ]
  },
  {
   "cell_type": "code",
   "execution_count": 23,
   "id": "f79821be-fd8b-4a42-8147-bc8829048edf",
   "metadata": {},
   "outputs": [
    {
     "name": "stdout",
     "output_type": "stream",
     "text": [
      "Trimmed messages:\n",
      "SystemMessage: 당신은 훌륭한 도우미입니다.\n",
      "HumanMessage: 고마워\n",
      "AIMessage: 천만에!\n",
      "HumanMessage: 재미있어?\n",
      "AIMessage: 응!\n"
     ]
    }
   ],
   "source": [
    "from langchain_core.messages import SystemMessage, HumanMessage, AIMessage, trim_messages\n",
    "\n",
    "# 메시지 트리머(trimmer) 설정\n",
    "trimmer = trim_messages(\n",
    "    max_tokens=65,             # 토큰 수 제한: 최대 65 토큰만 남김\n",
    "    strategy=\"last\",           # \"last\": 가장 최근(max_tokens 이하)의 메시지를 유지\n",
    "    token_counter=llm,         # LLM을 사용해 실제 토큰 수 계산\n",
    "    include_system=True,       # 시스템 메시지(SystemMessage)는 항상 포함\n",
    "    allow_partial=False,       # 메시지 일부만 포함하지 않음\n",
    "    start_on=\"human\",          # “human” 메시지 이후부터 시작\n",
    ")\n",
    "\n",
    "# 테스트용 메시지 목록: 대화 흐름 예시\n",
    "messages = [\n",
    "    SystemMessage(content=\"당신은 훌륭한 도우미입니다.\"),\n",
    "    HumanMessage(content=\"안녕! 나는 길동이야.\"),\n",
    "    AIMessage(content=\"안녕!\"),\n",
    "    HumanMessage(content=\"나는 바닐라 아이스크림을 좋아해.\"),\n",
    "    AIMessage(content=\"좋네.\"),\n",
    "    HumanMessage(content=\"2 + 2 는 얼마야?\"),\n",
    "    AIMessage(content=\"4\"),\n",
    "    HumanMessage(content=\"고마워\"),\n",
    "    AIMessage(content=\"천만에!\"),\n",
    "    HumanMessage(content=\"재미있어?\"),\n",
    "    AIMessage(content=\"응!\"),\n",
    "]\n",
    "\n",
    "# 트리머 호출: 메시지 리스트를 주면 max_tokens 이하로 줄여줍니다\n",
    "trimmed = trimmer.invoke(messages)\n",
    "\n",
    "# 결과를 출력하여 어떤 메시지가 유지되었는지 확인\n",
    "print(\"Trimmed messages:\")\n",
    "for msg in trimmed:\n",
    "    print(f\"{msg.__class__.__name__}: {msg.content}\")"
   ]
  },
  {
   "cell_type": "markdown",
   "id": "cb39ea23-e8b5-4d23-a1cf-6bf12f560b8b",
   "metadata": {},
   "source": [
    "--------------\n",
    "체인에서 사용하려면 메시지 입력을 프롬프트에 전달하기 전에 트리머를 실행하기만 하면 됩니다.\n",
    "\n",
    "MessagesState는 챗봇을 위해 대화 기록만을 다루는 간단한 스키마이므로 추가 필드가 필요하면 State(TypedDict) 로 상태 스키마를 정의해야합니다.  \n",
    "```\n",
    "class MessagesState(TypedDict):\n",
    "    messages: Annotated[list[BaseMessage], operator.add]\n",
    "\n",
    "```"
   ]
  },
  {
   "cell_type": "code",
   "execution_count": 24,
   "id": "77de6a03-7e64-41f7-a513-52c12cc39b75",
   "metadata": {},
   "outputs": [
    {
     "data": {
      "image/png": "[encoded data removed]",
      "text/plain": [
       "<langgraph.graph.state.CompiledStateGraph object at 0x000001954B742810>"
      ]
     },
     "execution_count": 24,
     "metadata": {},
     "output_type": "execute_result"
    }
   ],
   "source": [
    "from typing import Annotated, TypedDict, Sequence\n",
    "from langchain_core.messages import BaseMessage\n",
    "import operator\n",
    "\n",
    "# --- 상태 스키마 정의 ---\n",
    "class State(TypedDict):\n",
    "    # messages: BaseMessage 타입의 시퀀스로 이루어진 리스트\n",
    "    # Annotated를 사용하여 병합 시 operator.add(덧셈 연산)로 처리되도록 지정\n",
    "    # 즉, 병렬 노드에서 메시지가 동시에 추가되면 리스트에 누적됨\n",
    "    messages: Annotated[Sequence[BaseMessage], operator.add]\n",
    "    \n",
    "    # language: 문자열로 구성된 언어 정보\n",
    "    # 병합 방식이 지정되지 않았으므로, 기본적으로 마지막 값으로 덮어쓰기 됨\n",
    "    language: str\n",
    "\n",
    "# State 스키마를 기반으로 LangGraph 워크플로우 생성\n",
    "workflow = StateGraph(state_schema=State)\n",
    "\n",
    "# 상태를 입력받아 메시지를 트리밍하고, 프롬프트를 구성한 뒤, LLM 호출 결과를 반환하는 함수입니다.\n",
    "def call_model(state: State):\n",
    "    # 현재 메시지 리스트를 토큰 수 기준으로 잘라냅니다 (예: max_tokens=65 등)\n",
    "    trimmed_messages = trimmer.invoke(state[\"messages\"])\n",
    "\n",
    "    # 프롬프트 템플릿에 잘린 메시지와 언어 정보를 넣어 프롬프트 생성\n",
    "    prompt = prompt_template.invoke(\n",
    "        {\"messages\": trimmed_messages, \"language\": state[\"language\"]}\n",
    "    )\n",
    "\n",
    "    # 모델 호출 → 결과 메시지 반환\n",
    "    response = llm.invoke(prompt)\n",
    "\n",
    "    # LangGraph에서는 다음 상태로 넘어갈 때 딕셔너리 형태로 반환합니다.\n",
    "    return {\"messages\": [response]}\n",
    "\n",
    "# --- 워크플로우 구성 ---\n",
    "workflow.add_edge(START, \"model\")\n",
    "workflow.add_node(\"model\", call_model)\n",
    "\n",
    "# 대화 상태를 저장하기 위한 메모리 객체를 사용합니다 (기본 제공 MemorySaver).\n",
    "memory = MemorySaver()\n",
    "\n",
    "# 모든 노드와 엣지를 기반으로 LangGraph 앱을 생성합니다.\n",
    "app = workflow.compile(checkpointer=memory)\n",
    "app"
   ]
  },
  {
   "cell_type": "markdown",
   "id": "19ed8a6e-6f10-49dc-99e3-b2f1360eb5ee",
   "metadata": {},
   "source": [
    "이제 모델에게 이름을 물어보면 채팅 기록의 해당 부분을 잘라냈기 때문에 모델이 이름을 알 수 없습니다."
   ]
  },
  {
   "cell_type": "code",
   "execution_count": 25,
   "id": "9b6fe110-e34e-47e4-8742-fad9dbfe66c7",
   "metadata": {},
   "outputs": [
    {
     "name": "stdout",
     "output_type": "stream",
     "text": [
      "==================================\u001b[1m Ai Message \u001b[0m==================================\n",
      "\n",
      "미안하지만, 난 네 이름을 모르겠어. 알려줄래?\n"
     ]
    }
   ],
   "source": [
    "config = {\"configurable\": {\"thread_id\": \"abc345\"}}\n",
    "\n",
    "query = \"내 이름이 뭐지?\"\n",
    "\n",
    "input_messages = messages + [HumanMessage(query)]\n",
    "output = app.invoke({\"messages\": input_messages, \"language\": \"한국어\"}, config)\n",
    "output[\"messages\"][-1].pretty_print()"
   ]
  },
  {
   "cell_type": "markdown",
   "id": "6f4dbecb-14ea-48c8-aab9-7adf913ca233",
   "metadata": {},
   "source": [
    "# 라우터 (Router)\n",
    "\n",
    "## 복습 (Review)\n",
    "\n",
    "우리는 `messages`를 상태로 사용하고, **도구가 바인딩된 채팅 모델**을 사용하는 그래프를 만들었습니다.\n",
    "\n",
    "이 그래프는 다음과 같은 동작을 할 수 있었습니다:\n",
    "\n",
    "* 도구 호출을 반환\n",
    "* 자연어 응답을 반환\n",
    "\n",
    "## 목표 (Goals)\n",
    "\n",
    "이 구조는 일종의 **라우터(router)** 로 볼 수 있습니다.\n",
    "즉, **채팅 모델이 사용자 입력에 따라 도구를 호출하거나 직접 응답**하도록 흐름을 라우팅합니다.\n",
    "\n",
    "이는 간단한 **에이전트(agent)** 의 예시로, LLM이 도구를 호출하거나 직접 응답하는 방식으로 **제어 흐름(control flow)** 을 결정하는 구조입니다.\n",
    "\n",
    "![라우터 예시 이미지](https://cdn.prod.website-files.com/65b8cd72835ceeacd4449a53/66dbac6543c3d4df239a4ed1_router1.png)\n",
    "\n",
    "이제 이 그래프를 확장하여 **두 가지 출력 방식 모두 처리할 수 있도록** 해보겠습니다!\n",
    "\n",
    "이를 위해 다음 두 가지 아이디어를 사용할 수 있습니다:\n",
    "\n",
    "1. **도구를 실제로 호출하는 노드**를 추가합니다.\n",
    "2. **조건부 엣지**를 추가하여, 채팅 모델의 출력을 확인한 뒤\n",
    "\n",
    "   * 도구 호출이 있다면 도구 노드로\n",
    "   * 도구 호출이 없다면 바로 종료 노드로 이동하도록 라우팅합니다."
   ]
  },
  {
   "cell_type": "code",
   "execution_count": 27,
   "id": "9c7d4c34-d2b4-4ef0-b5e2-43c556cdfbd4",
   "metadata": {},
   "outputs": [],
   "source": [
    "from langchain_openai import ChatOpenAI\n",
    "\n",
    "def multiply(a: int, b: int) -> int:\n",
    "    \"\"\"Multiply a and b.\n",
    "\n",
    "    Args:\n",
    "        a: first int\n",
    "        b: second int\n",
    "    \"\"\"\n",
    "    return a * b\n",
    "\n",
    "llm = ChatOpenAI(model=\"gpt-4.1-nano\")\n",
    "llm_with_tools = llm.bind_tools([multiply])"
   ]
  },
  {
   "cell_type": "markdown",
   "id": "e78a7b5c-d388-4c9b-a6a0-4360ae43b471",
   "metadata": {},
   "source": [
    "우리는 [내장된 `ToolNode`](https://langchain-ai.github.io/langgraph/reference/prebuilt/?h=tools+condition#toolnode)를 사용하며,\n",
    "**초기화 시 도구 목록(list of tools)** 만 전달하면 됩니다.\n",
    "\n",
    "또한, [내장된 `tools_condition`](https://langchain-ai.github.io/langgraph/reference/prebuilt/?h=tools+condition#tools_condition)를\n",
    "**조건부 엣지(conditional edge)** 로 사용합니다.\n"
   ]
  },
  {
   "cell_type": "code",
   "execution_count": 28,
   "id": "925fcdbc-1484-4976-9fda-470ffca3a684",
   "metadata": {},
   "outputs": [
    {
     "data": {
      "image/png": "[encoded data removed]",
      "text/plain": [
       "<IPython.core.display.Image object>"
      ]
     },
     "metadata": {},
     "output_type": "display_data"
    }
   ],
   "source": [
    "from IPython.display import Image, display\n",
    "from langgraph.graph import StateGraph, START, END\n",
    "from langgraph.graph import MessagesState\n",
    "from langgraph.prebuilt import ToolNode\n",
    "from langgraph.prebuilt import tools_condition\n",
    "\n",
    "# Node\n",
    "def tool_calling_llm(state: MessagesState):\n",
    "    return {\"messages\": [llm_with_tools.invoke(state[\"messages\"])]}\n",
    "\n",
    "# Build graph\n",
    "builder = StateGraph(MessagesState)\n",
    "builder.add_node(\"tool_calling_llm\", tool_calling_llm)\n",
    "builder.add_node(\"tools\", ToolNode([multiply]))\n",
    "builder.add_edge(START, \"tool_calling_llm\")\n",
    "builder.add_conditional_edges(\n",
    "    \"tool_calling_llm\",\n",
    "    # 만약 assistant의 마지막 메시지(결과)가 도구 호출이면 -> tools_condition은 tools 노드로 이동합니다.\n",
    "    # 만약 assistant의 마지막 메시지가 도구 호출이 아니면 -> tools_condition은 END 노드로 이동합니다.\n",
    "    tools_condition,\n",
    ")\n",
    "builder.add_edge(\"tools\", END)\n",
    "graph = builder.compile()\n",
    "\n",
    "# View\n",
    "display(Image(graph.get_graph().draw_mermaid_png()))"
   ]
  },
  {
   "cell_type": "code",
   "execution_count": 29,
   "id": "b952557f-9c9b-49b0-92fa-5142b7ee8a68",
   "metadata": {},
   "outputs": [
    {
     "name": "stdout",
     "output_type": "stream",
     "text": [
      "================================\u001b[1m Human Message \u001b[0m=================================\n",
      "\n",
      "안녕, 2 곱하기 2는 얼마야?\n",
      "==================================\u001b[1m Ai Message \u001b[0m==================================\n",
      "Tool Calls:\n",
      "  multiply (call_YerdonOwKPPKT14rEAKmbcZv)\n",
      " Call ID: call_YerdonOwKPPKT14rEAKmbcZv\n",
      "  Args:\n",
      "    a: 2\n",
      "    b: 2\n",
      "=================================\u001b[1m Tool Message \u001b[0m=================================\n",
      "Name: multiply\n",
      "\n",
      "4\n"
     ]
    }
   ],
   "source": [
    "from langchain_core.messages import HumanMessage\n",
    "\n",
    "messages = [HumanMessage(content=\"안녕, 2 곱하기 2는 얼마야?\")]\n",
    "messages = graph.invoke({\"messages\": messages})\n",
    "for m in messages['messages']:\n",
    "    m.pretty_print()"
   ]
  },
  {
   "cell_type": "code",
   "execution_count": null,
   "id": "b7548a74-a159-4fe1-a30c-98989b9ece34",
   "metadata": {},
   "outputs": [],
   "source": []
  }
 ],
 "metadata": {
  "kernelspec": {
   "display_name": "Python 3 (ipykernel)",
   "language": "python",
   "name": "python3"
  },
  "language_info": {
   "codemirror_mode": {
    "name": "ipython",
    "version": 3
   },
   "file_extension": ".py",
   "mimetype": "text/x-python",
   "name": "python",
   "nbconvert_exporter": "python",
   "pygments_lexer": "ipython3",
   "version": "3.11.13"
  }
 },
 "nbformat": 4,
 "nbformat_minor": 5
}
